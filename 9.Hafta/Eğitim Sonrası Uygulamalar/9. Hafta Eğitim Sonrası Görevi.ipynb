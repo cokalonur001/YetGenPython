{
 "cells": [
  {
   "attachments": {},
   "cell_type": "markdown",
   "metadata": {},
   "source": [
    "# Problem 1\n",
    "\n",
    "Kumanda isminde bir sınıf oluşturarak aşağıdaki işlemleri yapmasını sağlayan fonksiyonları sınıf içerisinde yazalım.\n",
    "1. Tv Aç\n",
    "2. Tv Kapat\n",
    "3. Ses Ayarları\n",
    "4. Kanal Ekle\n",
    "5. Kanal Sayısını Öğrenme\n",
    "6. Rastgele Kanala Geçme\n",
    "7. Televizyon Bilgileri\n",
    "\n",
    "\n",
    "Kumandayı kapatmak için q tuşuna basılmalı ve diğer durumlarda hangi işlemi yapmak istediği sorulmalıdır. Her işlemde gerekli fonksiyonunun sınıf içerisinden çağırılması gerekmektedir.\n",
    "\n",
    "random ve time kütüphanesini araştırarak kullanabilirsiniz.\n",
    "\n",
    "Kendi istediğiniz özellikleri eklemekte serbetsiniz."
   ]
  },
  {
   "cell_type": "code",
   "execution_count": null,
   "metadata": {},
   "outputs": [],
   "source": [
    "# 1.Problemin Çözümünü Buraya Yazınız\n",
    "import random\n",
    "import time\n",
    "\n",
    "class Kumanda():\n",
    "\n",
    "    def __init__(self,tv_durum = \"Kapalı\", tv_ses =0, kanal_listesi = [\"Trt\"], kanal=\"Trt\"):\n",
    "        self.tv_durum=tv_durum\n",
    "        self.tv_ses=tv_ses\n",
    "        self.kanal_listesi=kanal_listesi\n",
    "        self.kanal=kanal\n",
    "\n",
    "    def tv_ac(self):\n",
    "        if(self.tv_durum == \"Açık\"):\n",
    "            print(\"Televizyon zaten açık...\")\n",
    "        else:\n",
    "            print(\"Televizyon Açılıyor...\")\n",
    "            self.tv_durum == \"Açık\"\n",
    "    \n",
    "    def tv_kapat(self):\n",
    "        "
   ]
  }
 ],
 "metadata": {
  "kernelspec": {
   "display_name": "Python 3",
   "language": "python",
   "name": "python3"
  },
  "language_info": {
   "name": "python",
   "version": "3.10.5 (tags/v3.10.5:f377153, Jun  6 2022, 16:14:13) [MSC v.1929 64 bit (AMD64)]"
  },
  "orig_nbformat": 4,
  "vscode": {
   "interpreter": {
    "hash": "5026d2d6e7aaaaba093def813beadff083d8733e4a511af01735cbabd156995d"
   }
  }
 },
 "nbformat": 4,
 "nbformat_minor": 2
}
