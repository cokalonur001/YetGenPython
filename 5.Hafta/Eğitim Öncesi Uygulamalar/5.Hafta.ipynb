{
 "cells": [
  {
   "attachments": {},
   "cell_type": "markdown",
   "metadata": {},
   "source": [
    "LİST COMPREHENSİON\n",
    "Do this   for this collection      in this situation\n",
    "[x**2     for x in range(0,50)        if x%3 ==0]"
   ]
  },
  {
   "cell_type": "code",
   "execution_count": 1,
   "metadata": {},
   "outputs": [
    {
     "name": "stdout",
     "output_type": "stream",
     "text": [
      "[1, 4, 9, 16, 25, 36, 49, 64, 81, 100]\n"
     ]
    }
   ],
   "source": [
    "#Klasik yöntem\n",
    "liste = [1,2,3,4,5,6,7,8,9,10]\n",
    "yeniListe = []\n",
    "for i in liste:\n",
    "    yeniListe.append(i*i)\n",
    "print(yeniListe)"
   ]
  },
  {
   "cell_type": "code",
   "execution_count": 1,
   "metadata": {},
   "outputs": [
    {
     "name": "stdout",
     "output_type": "stream",
     "text": [
      "[1, 4, 9, 16, 25, 36, 49, 64, 81, 100]\n"
     ]
    }
   ],
   "source": [
    "#List Comprehension\n",
    "liste = [1,2,3,4,5,6,7,8,9,10]\n",
    "yeniListe = [i*i for i in liste] #Önce vermek istediğim çıktı sonra döngü ve en sonda da vermek istediğimiz çıktı.\n",
    "print(yeniListe)"
   ]
  },
  {
   "cell_type": "code",
   "execution_count": 61,
   "metadata": {},
   "outputs": [
    {
     "name": "stdout",
     "output_type": "stream",
     "text": [
      "[1, 2, 3, 4, 5, 6, 7, 8, 9, 10, 11, 12, 13, 14, 15]\n",
      "[1, 2, 3, 4, 5, 6, 7, 8, 9, 10, 11, 12, 13, 14, 15]\n"
     ]
    }
   ],
   "source": [
    "#list comprehension ile yapım\n",
    "liste = [[1,2,3] , [4,5,6,7,8] , [9,10,11,12,13,14,15]]\n",
    "liste2 = [x for i in liste for x in i]\n",
    "print(liste2)\n",
    "\n",
    "a = []\n",
    "#Klasik çözüm\n",
    "for i in liste:\n",
    "    for x in i:\n",
    "        if x not in a:\n",
    "            a.append(x)\n",
    "print(a)     "
   ]
  },
  {
   "cell_type": "code",
   "execution_count": 18,
   "metadata": {},
   "outputs": [
    {
     "name": "stdout",
     "output_type": "stream",
     "text": [
      "[1, 2, 3, 5, 6, 7, 8, 10]\n"
     ]
    }
   ],
   "source": [
    "liste1 = [1,2,3,4,5,6,7,8,9,10]\n",
    "liste2 = [i for i in liste1 if not (i==4 or i==9)]\n",
    "print(liste2)"
   ]
  },
  {
   "attachments": {},
   "cell_type": "markdown",
   "metadata": {},
   "source": [
    "FONKSİYONLAR\n",
    "Bir kodu bir çok yerde kullanmamız gerekiyorsa, her yerde tekrar tekrar yazmayı önler. Programlamanın temeli: DRY(Don't Repeat Yourself - Kendini tekrar etme)\n",
    "Fonksiyonların içindeki değişkenler yereldir, yani bir fonksiyonun içinde bir değişken tanımladığınızda, o değişkeni fonksiyonun dışında çağıramayız. Çünkü o değişken o fonksiyona özeldir ve globalde kullanılamaz. \n",
    "Ne zaman bir fonksiyon çağırılırsa, fonksiyonu yazdıktan sonra yapmalısınız.\n",
    "Fonksiyon tanımlamanın yapısı şu şekildedir.\n",
    "\n",
    "    def fonksiyon_adı(parametre1 , parametre2 , ......(opsiyonel)):\n",
    "        #fonksiyon bloğu\n",
    "        Yapılacak işlemler \n",
    "        #dönüş değeri - opsiyonel\n",
    "\n",
    "Tanımlanan bir fonksiyonun kullanılmasına programlama dillerinde Fonksiyon Çağrısı denmektedir. O halde selamla fonksiyonumuzu nasıl çağıracağımızı öğrenelim. Fonksiyon çağrısı şu şekilde yapılabilmektedir.\n",
    "    fonksiyon_adı(Argüman1, Argüman2 .....)"
   ]
  },
  {
   "cell_type": "code",
   "execution_count": 20,
   "metadata": {},
   "outputs": [
    {
     "name": "stdout",
     "output_type": "stream",
     "text": [
      "Merhaba\n",
      "Merhaba\n"
     ]
    }
   ],
   "source": [
    "def selamla():\n",
    "    print(\"Merhaba\")\n",
    "selamla()\n",
    "selamla()"
   ]
  },
  {
   "attachments": {},
   "cell_type": "markdown",
   "metadata": {},
   "source": [
    "Argüman:\n",
    "işlev çağırılırken parantez içindeki işlevlere iletilen değerler (string, number, vb.)(ör.islev_adı(argüman))\n",
    "Eğer fonksiyon çağırılırken bir argüman yoksa, bu argümanın değeri None olacaktır. Bu nedenle fonksiyonun içinde ifade edilecek bir değer yoksa, belirlenen değeri kullanılmalıdır.\n",
    "\n",
    "def helloWorld(name=\"ziyaretçi\"):\n",
    "    print(\"Merhaba \" , name)\n",
    "\n",
    "Birden fazla parametre olabilir. Her biri virgülle ayrılır. "
   ]
  },
  {
   "cell_type": "code",
   "execution_count": 30,
   "metadata": {},
   "outputs": [
    {
     "name": "stdout",
     "output_type": "stream",
     "text": [
      "Merhaba ziyaretçi\n",
      "Merhaba Onur\n"
     ]
    }
   ],
   "source": [
    "def helloWorld(name=\"ziyaretçi\"):\n",
    "    print(\"Merhaba\" , name)\n",
    "\n",
    "helloWorld()\n",
    "helloWorld(\"Onur\")"
   ]
  },
  {
   "cell_type": "code",
   "execution_count": 33,
   "metadata": {},
   "outputs": [
    {
     "name": "stdout",
     "output_type": "stream",
     "text": [
      "6\n"
     ]
    }
   ],
   "source": [
    "def topla(sayi1,sayi2,sayi3):\n",
    "    toplam = sayi1 + sayi2 + sayi3\n",
    "    print(toplam)\n",
    "\n",
    "topla(1,2,3)"
   ]
  },
  {
   "cell_type": "code",
   "execution_count": 35,
   "metadata": {},
   "outputs": [
    {
     "name": "stdout",
     "output_type": "stream",
     "text": [
      "Siteme hoş geldin Onur Çokal\n",
      "Siteme hoş geldin Ahmet Çokal\n",
      "Siteme hoş geldin Ahmet Ekici\n"
     ]
    }
   ],
   "source": [
    "def merhaba(name = \"Onur\" , surname = \"Çokal\"): #Yazdırırken parametre girmez isek bunu yazdırır\n",
    "    print(\"Siteme hoş geldin \" + name + \" \" + surname)\n",
    "merhaba() #Parametre eklemediğimiz için ilk ne dediysek onu yazdırdı\n",
    "merhaba(\"Ahmet\")  #İlk parametreyi değiştirdi\n",
    "merhaba(\"Ahmet\", \"Ekici\")  #Her iki parametreyide değiştirdi\n",
    "\n",
    "#Parametre ile argüman aynı şey"
   ]
  },
  {
   "cell_type": "code",
   "execution_count": 37,
   "metadata": {},
   "outputs": [
    {
     "name": "stdout",
     "output_type": "stream",
     "text": [
      "30\n",
      "6\n",
      "2\n"
     ]
    }
   ],
   "source": [
    "def carp(sayi1 = 1, sayi2 = 1, sayi3 = 1):\n",
    "    c = sayi1 * sayi2 * sayi3\n",
    "    print(c)\n",
    "\n",
    "carp(2,3,5) #3 parametreyide değiştirdi\n",
    "carp(2,3)   #2 parametreyi değiştirdi\n",
    "carp(2)     \n"
   ]
  },
  {
   "cell_type": "code",
   "execution_count": 39,
   "metadata": {},
   "outputs": [
    {
     "name": "stdout",
     "output_type": "stream",
     "text": [
      "Hola\n",
      "Bonjour\n",
      "Hello\n",
      "Merhaba\n"
     ]
    }
   ],
   "source": [
    "def merhaba(dil):\n",
    "    if dil == \"es\":\n",
    "        print(\"Hola\")\n",
    "    elif dil == \"fr\":\n",
    "        print(\"Bonjour\")\n",
    "    elif dil == \"en\":\n",
    "        print(\"Hello\")\n",
    "    else:\n",
    "        print(\"Merhaba\")\n",
    "\n",
    "merhaba(\"es\")\n",
    "merhaba(\"fr\")\n",
    "merhaba(\"en\")\n",
    "merhaba(\"tr\")\n"
   ]
  },
  {
   "attachments": {},
   "cell_type": "markdown",
   "metadata": {},
   "source": [
    "return\n",
    "Kodun tamamında kullanmak için işlevin kodu tamamlandıktan sonra kalan değeri (sonuç değeri) döndürür.\n",
    "\"return\" anahtar sözcüğünden sonraki kodlar yürütülmez. Bu, görmezden gelindikleri anlamına gelir.\n",
    "return yardımıyla fonksiyonlar değerleri çağrıldığı yere döndürebilir ve biz de bu değerleri istediğimiz yerde kullanabiliriz.\n"
   ]
  },
  {
   "cell_type": "code",
   "execution_count": 40,
   "metadata": {},
   "outputs": [
    {
     "name": "stdout",
     "output_type": "stream",
     "text": [
      "3.0\n"
     ]
    }
   ],
   "source": [
    "def dikUçgenAlaniHesapla(a,b):\n",
    "    return (a*b)/2\n",
    "alan = dikUçgenAlaniHesapla(2,3)\n",
    "print(alan)"
   ]
  },
  {
   "cell_type": "code",
   "execution_count": 41,
   "metadata": {},
   "outputs": [
    {
     "name": "stdout",
     "output_type": "stream",
     "text": [
      "7.5\n"
     ]
    }
   ],
   "source": [
    "#Kendim yaptım\n",
    "a = float(input(\"Alt Taban uzunluğunu giriniz: \"))\n",
    "b = float(input(\"Yüksekliği giriniz: \"))\n",
    "def dikUçgenAlaniHesapla(a,b):\n",
    "    return (a*b)/2\n",
    "alan = dikUçgenAlaniHesapla(a,b)\n",
    "print(alan)"
   ]
  },
  {
   "attachments": {},
   "cell_type": "markdown",
   "metadata": {},
   "source": [
    "*args\n",
    "Sınırsız sayıda parametreli fonksiyon oluşturmak için parametremizin önüne tek yıldız (*) koyabiliriz.\n",
    "İsimsiz argümanlardır.\n"
   ]
  },
  {
   "cell_type": "code",
   "execution_count": 44,
   "metadata": {},
   "outputs": [
    {
     "name": "stdout",
     "output_type": "stream",
     "text": [
      "(4,)\n",
      "(4, 5, 6, 7)\n"
     ]
    }
   ],
   "source": [
    "def sayilar(*x):\n",
    "    print(x)\n",
    "sayilar(4)\n",
    "sayilar(4,5,6,7) #Bu sayede birçok parametreyi yazdırmamızı sağlar "
   ]
  },
  {
   "cell_type": "code",
   "execution_count": 46,
   "metadata": {},
   "outputs": [
    {
     "name": "stdout",
     "output_type": "stream",
     "text": [
      "55\n"
     ]
    }
   ],
   "source": [
    "def topla(*x):\n",
    "    toplam = 0\n",
    "    for i in x:\n",
    "        toplam += i #toplam = toplam+i\n",
    "    print(toplam)\n",
    "topla(1,2,3,4,5,6,7,8,9,10)"
   ]
  },
  {
   "attachments": {},
   "cell_type": "markdown",
   "metadata": {},
   "source": [
    "**kwargs\n",
    "Çift yıldızlı (**) parametrelerin tek yıldızlı (*) parametrelerden en önemli farkı, fonksiyonu çağırırken anahtar değer ilişkisiyle çağırabilmemizdir.\n",
    "İsimli argümanlardır."
   ]
  },
  {
   "cell_type": "code",
   "execution_count": 47,
   "metadata": {},
   "outputs": [
    {
     "name": "stdout",
     "output_type": "stream",
     "text": [
      "{'adi': 'Onur', 'soyadi': 'Çokal', 'yas': 23}\n"
     ]
    }
   ],
   "source": [
    "def kimlikGoster(**kimlik):\n",
    "    print(kimlik)\n",
    "kimlikGoster(adi = \"Onur\", soyadi = \"Çokal\" , yas = 23)\n"
   ]
  },
  {
   "cell_type": "code",
   "execution_count": 49,
   "metadata": {},
   "outputs": [
    {
     "name": "stdout",
     "output_type": "stream",
     "text": [
      "10\n",
      "(20, 30, 40, 50)\n",
      "6\n",
      "{'adi': 'Onur', 'soyadi': 'Çokal', 'yas': 23}\n"
     ]
    }
   ],
   "source": [
    "def ornek(a, *sayilar, b, **kimlik): #Birincisini sayı ikincisini sayı dizesi, üçüncüsünü sayı, dördüncüsünü de dictionary olarak tanımladık\n",
    "    print(a)\n",
    "    print(sayilar)\n",
    "    print(b)\n",
    "    print(kimlik)\n",
    "\n",
    "ornek(10, 20,30,40,50, b = 6, adi = \"Onur\", soyadi = \"Çokal\" , yas = 23) "
   ]
  },
  {
   "attachments": {},
   "cell_type": "markdown",
   "metadata": {},
   "source": [
    "Pass Deyimi\n",
    "Python programlamasında pass ifadesi null değer atama için kullanılır. Python'daki bir açıklama ve geçiş ifadesi arasındaki fark, yorumlayıcı bir yorumu tamamen yok sayarken, geçişin göz ardı edilmemesidir. "
   ]
  },
  {
   "cell_type": "code",
   "execution_count": 50,
   "metadata": {},
   "outputs": [],
   "source": [
    "def carp(*sayilar):\n",
    "    for sayi in sayilar:\n",
    "        pass\n",
    "carp(2,5) #Çıktı vermiyor ama programda hata olmasını önlüyor.\n"
   ]
  },
  {
   "attachments": {},
   "cell_type": "markdown",
   "metadata": {},
   "source": [
    "Global ve Yerel Değişkenler\n",
    "Global değişken fonksiyonlarımızın dışında tanımladığımız değişkenlerdir.\n",
    "Yerel değişkenler ise fonksiyon içinde kullandığımız değişkenlerdir.\n",
    "Fonksiyonun dışında tanımladığımız fonksiyonların içinde kullanılırken, fonksiyonların içinde tanımladığımız değişkenler fonksiyon dışında kullanılamaz. "
   ]
  },
  {
   "attachments": {},
   "cell_type": "markdown",
   "metadata": {},
   "source": [
    "#Global değişken \n",
    "def goster():\n",
    "    #yerel değişkenler #yerel değişkenler globalde kullanılamaz"
   ]
  },
  {
   "cell_type": "code",
   "execution_count": 54,
   "metadata": {},
   "outputs": [
    {
     "name": "stdout",
     "output_type": "stream",
     "text": [
      "5\n",
      "15\n"
     ]
    }
   ],
   "source": [
    "def yazdir2():\n",
    "    x = 5\n",
    "    print(x)\n",
    "yazdir2\n",
    "print(x) \n"
   ]
  },
  {
   "cell_type": "code",
   "execution_count": 56,
   "metadata": {},
   "outputs": [
    {
     "name": "stdout",
     "output_type": "stream",
     "text": [
      "5\n",
      "5\n"
     ]
    }
   ],
   "source": [
    "def yazdır3():\n",
    "    global x\n",
    "    x=5\n",
    "    print(x)\n",
    "yazdır3()\n",
    "print(x)\n"
   ]
  },
  {
   "attachments": {},
   "cell_type": "markdown",
   "metadata": {},
   "source": [
    "Bir fonksiyon kendi içerisinde çağırılırsa sonsuz döngüye girer. "
   ]
  },
  {
   "attachments": {},
   "cell_type": "markdown",
   "metadata": {},
   "source": [
    "Lambda Gösterimi\n",
    "Pythonda isimsiz olarak tanımladığımız fonksiyonlara lambda fonksiyonları denir.\n",
    "Tek satırda yazılırlar.\n",
    "Gösterimi\n",
    "fonksiyonAdi = lambda parametreler : yapılacakIslem"
   ]
  },
  {
   "cell_type": "code",
   "execution_count": 57,
   "metadata": {},
   "outputs": [
    {
     "data": {
      "text/plain": [
       "3.0"
      ]
     },
     "execution_count": 57,
     "metadata": {},
     "output_type": "execute_result"
    }
   ],
   "source": [
    "dikUçgenAlaniHesapla = lambda a,b : a*b/2\n",
    "dikUçgenAlaniHesapla(2,3)\n"
   ]
  },
  {
   "cell_type": "code",
   "execution_count": 58,
   "metadata": {},
   "outputs": [
    {
     "name": "stdout",
     "output_type": "stream",
     "text": [
      "6\n"
     ]
    }
   ],
   "source": [
    "ikiyleCarp = lambda x : print(x*2)\n",
    "ikiyleCarp(3)"
   ]
  },
  {
   "cell_type": "code",
   "execution_count": 60,
   "metadata": {},
   "outputs": [
    {
     "name": "stdout",
     "output_type": "stream",
     "text": [
      "runO\n"
     ]
    }
   ],
   "source": [
    "ters = lambda s : s[::-1]\n",
    "print(ters(\"Onur\"))"
   ]
  }
 ],
 "metadata": {
  "kernelspec": {
   "display_name": "Python 3",
   "language": "python",
   "name": "python3"
  },
  "language_info": {
   "codemirror_mode": {
    "name": "ipython",
    "version": 3
   },
   "file_extension": ".py",
   "mimetype": "text/x-python",
   "name": "python",
   "nbconvert_exporter": "python",
   "pygments_lexer": "ipython3",
   "version": "3.11.1"
  },
  "orig_nbformat": 4
 },
 "nbformat": 4,
 "nbformat_minor": 2
}
