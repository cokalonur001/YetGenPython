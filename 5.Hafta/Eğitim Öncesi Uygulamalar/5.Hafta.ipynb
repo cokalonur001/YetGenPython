{
 "cells": [
  {
   "attachments": {},
   "cell_type": "markdown",
   "metadata": {},
   "source": [
    "LİST COMPREHENSİON\n",
    "Do this   for this collection      in this situation\n",
    "[x**2     for x in range(0,50)        if x%3 ==0]"
   ]
  },
  {
   "cell_type": "code",
   "execution_count": 1,
   "metadata": {},
   "outputs": [
    {
     "name": "stdout",
     "output_type": "stream",
     "text": [
      "[1, 4, 9, 16, 25, 36, 49, 64, 81, 100]\n"
     ]
    }
   ],
   "source": [
    "#Klasik yöntem\n",
    "liste = [1,2,3,4,5,6,7,8,9,10]\n",
    "yeniListe = []\n",
    "for i in liste:\n",
    "    yeniListe.append(i*i)\n",
    "print(yeniListe)"
   ]
  },
  {
   "cell_type": "code",
   "execution_count": 1,
   "metadata": {},
   "outputs": [
    {
     "name": "stdout",
     "output_type": "stream",
     "text": [
      "[1, 4, 9, 16, 25, 36, 49, 64, 81, 100]\n"
     ]
    }
   ],
   "source": [
    "#List Comprehension\n",
    "liste = [1,2,3,4,5,6,7,8,9,10]\n",
    "yeniListe = [i*i for i in liste] #Önce vermek istediğim çıktı sonra döngü ve en sonda da vermek istediğimiz çıktı.\n",
    "print(yeniListe)"
   ]
  },
  {
   "cell_type": "code",
   "execution_count": 17,
   "metadata": {},
   "outputs": [
    {
     "name": "stdout",
     "output_type": "stream",
     "text": [
      "[1, 2, 3, 4, 5, 6, 7, 8, 9, 10, 11, 12, 13, 14, 15]\n",
      "[1]\n",
      "[1, 2]\n",
      "[1, 2, 3]\n",
      "[1, 2, 3, 4]\n",
      "[1, 2, 3, 4, 5]\n",
      "[1, 2, 3, 4, 5, 6]\n",
      "[1, 2, 3, 4, 5, 6, 7]\n",
      "[1, 2, 3, 4, 5, 6, 7, 8]\n",
      "[1, 2, 3, 4, 5, 6, 7, 8, 9]\n",
      "[1, 2, 3, 4, 5, 6, 7, 8, 9, 10]\n",
      "[1, 2, 3, 4, 5, 6, 7, 8, 9, 10, 11]\n",
      "[1, 2, 3, 4, 5, 6, 7, 8, 9, 10, 11, 12]\n",
      "[1, 2, 3, 4, 5, 6, 7, 8, 9, 10, 11, 12, 13]\n",
      "[1, 2, 3, 4, 5, 6, 7, 8, 9, 10, 11, 12, 13, 14]\n",
      "[1, 2, 3, 4, 5, 6, 7, 8, 9, 10, 11, 12, 13, 14, 15]\n"
     ]
    }
   ],
   "source": [
    "#list comprehension ile yapım\n",
    "liste = [[1,2,3] , [4,5,6,7,8] , [9,10,11,12,13,14,15]]\n",
    "liste2 = [x for i in liste for x in i]\n",
    "print(liste2)\n",
    "\n",
    "a = []\n",
    "#Klasik çözüm\n",
    "for i in liste:\n",
    "    for x in i:\n",
    "        if x not in a:\n",
    "            a.append(x)\n",
    "            print(a)     #Buranın neden hepsini yazdırdığını sor"
   ]
  },
  {
   "cell_type": "code",
   "execution_count": 18,
   "metadata": {},
   "outputs": [
    {
     "name": "stdout",
     "output_type": "stream",
     "text": [
      "[1, 2, 3, 5, 6, 7, 8, 10]\n"
     ]
    }
   ],
   "source": [
    "liste1 = [1,2,3,4,5,6,7,8,9,10]\n",
    "liste2 = [i for i in liste1 if not (i==4 or i==9)]\n",
    "print(liste2)"
   ]
  },
  {
   "attachments": {},
   "cell_type": "markdown",
   "metadata": {},
   "source": [
    "FONKSİYONLAR\n",
    "Bir kodu bir çok yerde kullanmamız gerekiyorsa, her yerde tekrar tekrar yazmayı önler. Programlamanın temeli: DRY(Don't Repeat Yourself - Kendini tekrar etme)\n",
    "Fonksiyonların içindeki değişkenler yereldir, yani bir fonksiyonun içinde bir değişken tanımladığınızda, o değişkeni fonksiyonun dışında çağıramayız. Çünkü o değişken o fonksiyona özeldir ve globalde kullanılamaz. \n",
    "Ne zaman bir fonksiyon çağırılırsa, fonksiyonu yazdıktan sonra yapmalısınız.\n",
    "Fonksiyon tanımlamanın yapısı şu şekildedir.\n",
    "\n",
    "    def fonksiyon_adı(parametre1 , parametre2 , ......(opsiyonel)):\n",
    "        #fonksiyon bloğu\n",
    "        Yapılacak işlemler \n",
    "        #dönüş değeri - opsiyonel\n",
    "\n",
    "Tanımlanan bir fonksiyonun kullanılmasına programlama dillerinde Fonksiyon Çağrısı denmektedir. O halde selamla fonksiyonumuzu nasıl çağıracağımızı öğrenelim. Fonksiyon çağrısı şu şekilde yapılabilmektedir.\n",
    "    fonksiyon_adı(Argüman1, Argüman2 .....)"
   ]
  },
  {
   "cell_type": "code",
   "execution_count": 20,
   "metadata": {},
   "outputs": [
    {
     "name": "stdout",
     "output_type": "stream",
     "text": [
      "Merhaba\n",
      "Merhaba\n"
     ]
    }
   ],
   "source": [
    "def selamla():\n",
    "    print(\"Merhaba\")\n",
    "selamla()\n",
    "selamla()"
   ]
  },
  {
   "attachments": {},
   "cell_type": "markdown",
   "metadata": {},
   "source": [
    "Argüman:\n",
    "işlev çağırılırken parantez içindeki işlevlere iletilen değerler (string, number, vb.)(ör.islev_adı(argüman))\n",
    "Eğer fonksiyon çağırılırken bir argüman yoksa, bu argümanın değeri None olacaktır. Bu nedenle fonksiyonun içinde ifade edilecek bir değer yoksa, belirlenen değeri kullanılmalıdır.\n",
    "\n",
    "def helloWorld(name=\"ziyaretçi\"):\n",
    "    print(\"Merhaba \" , name)\n",
    "\n",
    "Birden fazla parametre olabilir. Her biri virgülle ayrılır. "
   ]
  },
  {
   "cell_type": "code",
   "execution_count": 30,
   "metadata": {},
   "outputs": [
    {
     "name": "stdout",
     "output_type": "stream",
     "text": [
      "Merhaba ziyaretçi\n",
      "Merhaba Onur\n"
     ]
    }
   ],
   "source": [
    "def helloWorld(name=\"ziyaretçi\"):\n",
    "    print(\"Merhaba\" , name)\n",
    "\n",
    "helloWorld()\n",
    "helloWorld(\"Onur\")"
   ]
  },
  {
   "cell_type": "code",
   "execution_count": 33,
   "metadata": {},
   "outputs": [
    {
     "name": "stdout",
     "output_type": "stream",
     "text": [
      "6\n"
     ]
    }
   ],
   "source": [
    "def topla(sayi1,sayi2,sayi3):\n",
    "    toplam = sayi1 + sayi2 + sayi3\n",
    "    print(toplam)\n",
    "\n",
    "topla(1,2,3)"
   ]
  },
  {
   "cell_type": "code",
   "execution_count": 35,
   "metadata": {},
   "outputs": [
    {
     "name": "stdout",
     "output_type": "stream",
     "text": [
      "Siteme hoş geldin Onur Çokal\n",
      "Siteme hoş geldin Ahmet Çokal\n",
      "Siteme hoş geldin Ahmet Ekici\n"
     ]
    }
   ],
   "source": [
    "def merhaba(name = \"Onur\" , surname = \"Çokal\"): #Yazdırırken parametre girmez isek bunu yazdırır\n",
    "    print(\"Siteme hoş geldin \" + name + \" \" + surname)\n",
    "merhaba() #Parametre eklemediğimiz için ilk ne dediysek onu yazdırdı\n",
    "merhaba(\"Ahmet\")  #İlk parametreyi değiştirdi\n",
    "merhaba(\"Ahmet\", \"Ekici\")  #Her iki parametreyide değiştirdi\n",
    "\n",
    "#Parametre ile argüman aynı şey"
   ]
  },
  {
   "cell_type": "code",
   "execution_count": 37,
   "metadata": {},
   "outputs": [
    {
     "name": "stdout",
     "output_type": "stream",
     "text": [
      "30\n",
      "6\n",
      "2\n"
     ]
    }
   ],
   "source": [
    "def carp(sayi1 = 1, sayi2 = 1, sayi3 = 1):\n",
    "    c = sayi1 * sayi2 * sayi3\n",
    "    print(c)\n",
    "\n",
    "carp(2,3,5) #3 parametreyide değiştirdi\n",
    "carp(2,3)   #2 parametreyi değiştirdi\n",
    "carp(2)     \n"
   ]
  },
  {
   "cell_type": "code",
   "execution_count": 39,
   "metadata": {},
   "outputs": [
    {
     "name": "stdout",
     "output_type": "stream",
     "text": [
      "Hola\n",
      "Bonjour\n",
      "Hello\n",
      "Merhaba\n"
     ]
    }
   ],
   "source": [
    "def merhaba(dil):\n",
    "    if dil == \"es\":\n",
    "        print(\"Hola\")\n",
    "    elif dil == \"fr\":\n",
    "        print(\"Bonjour\")\n",
    "    elif dil == \"en\":\n",
    "        print(\"Hello\")\n",
    "    else:\n",
    "        print(\"Merhaba\")\n",
    "\n",
    "merhaba(\"es\")\n",
    "merhaba(\"fr\")\n",
    "merhaba(\"en\")\n",
    "merhaba(\"tr\")\n"
   ]
  },
  {
   "attachments": {},
   "cell_type": "markdown",
   "metadata": {},
   "source": [
    "return\n",
    "Kodun tamamında kullanmak için "
   ]
  }
 ],
 "metadata": {
  "kernelspec": {
   "display_name": "Python 3",
   "language": "python",
   "name": "python3"
  },
  "language_info": {
   "codemirror_mode": {
    "name": "ipython",
    "version": 3
   },
   "file_extension": ".py",
   "mimetype": "text/x-python",
   "name": "python",
   "nbconvert_exporter": "python",
   "pygments_lexer": "ipython3",
   "version": "3.11.1"
  },
  "orig_nbformat": 4
 },
 "nbformat": 4,
 "nbformat_minor": 2
}
