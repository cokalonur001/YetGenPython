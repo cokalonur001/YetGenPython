{
 "cells": [
  {
   "cell_type": "code",
   "execution_count": 1,
   "metadata": {},
   "outputs": [
    {
     "name": "stdout",
     "output_type": "stream",
     "text": [
      "Hello World\n"
     ]
    }
   ],
   "source": [
    "print(\"Hello World\")"
   ]
  },
  {
   "cell_type": "code",
   "execution_count": 2,
   "metadata": {},
   "outputs": [
    {
     "name": "stdout",
     "output_type": "stream",
     "text": [
      "Hello World\n"
     ]
    }
   ],
   "source": [
    "print ('Hello World')"
   ]
  },
  {
   "cell_type": "code",
   "execution_count": 4,
   "metadata": {},
   "outputs": [
    {
     "name": "stdout",
     "output_type": "stream",
     "text": [
      "Hello World\n"
     ]
    }
   ],
   "source": [
    "print(\"\"\"Hello World\"\"\")"
   ]
  },
  {
   "cell_type": "code",
   "execution_count": 5,
   "metadata": {},
   "outputs": [
    {
     "data": {
      "text/plain": [
       "'Hello Python'"
      ]
     },
     "execution_count": 5,
     "metadata": {},
     "output_type": "execute_result"
    }
   ],
   "source": [
    "\"Hello Python\""
   ]
  },
  {
   "cell_type": "code",
   "execution_count": 6,
   "metadata": {},
   "outputs": [
    {
     "name": "stdout",
     "output_type": "stream",
     "text": [
      "Python Öğreniyorum\n",
      "YetGen ile Python'a ilk adımımı attım\n"
     ]
    }
   ],
   "source": [
    "print(\"Python Öğreniyorum\")\n",
    "print(\"YetGen ile Python'a ilk adımımı attım\") #İkisinide yazdırıyor"
   ]
  },
  {
   "cell_type": "code",
   "execution_count": 7,
   "metadata": {},
   "outputs": [
    {
     "data": {
      "text/plain": [
       "\"YetGen ile Python'a ilk adımımı attım\""
      ]
     },
     "execution_count": 7,
     "metadata": {},
     "output_type": "execute_result"
    }
   ],
   "source": [
    "\"Python Öğreniyorum\"\n",
    "\"YetGen ile Python'a ilk adımımı attım\" #Sadece sondakini yazdırıyor "
   ]
  },
  {
   "cell_type": "code",
   "execution_count": 13,
   "metadata": {},
   "outputs": [
    {
     "name": "stdout",
     "output_type": "stream",
     "text": [
      "Hello,World\n"
     ]
    }
   ],
   "source": [
    "#sep parametresi (parametrelerin arasına ne geleceğini belirleriz)\n",
    "print(\"Hello\" , \"World\" , sep=\",\") "
   ]
  },
  {
   "cell_type": "code",
   "execution_count": 14,
   "metadata": {},
   "outputs": [
    {
     "name": "stdout",
     "output_type": "stream",
     "text": [
      "Ankara/İstanbul/İzmir\n"
     ]
    }
   ],
   "source": [
    "print(\"Ankara\",\"İstanbul\",\"İzmir\" , sep=\"/\")"
   ]
  },
  {
   "cell_type": "code",
   "execution_count": 18,
   "metadata": {},
   "outputs": [
    {
     "name": "stdout",
     "output_type": "stream",
     "text": [
      "Python'a ilk adımımı attım."
     ]
    }
   ],
   "source": [
    "#end parametresi (sona ne geleceğini belirleriz)\n",
    "print(\"Python'a ilk adımımı attım\" , end=\".\") #aradaki virgül önemli"
   ]
  },
  {
   "cell_type": "code",
   "execution_count": 19,
   "metadata": {},
   "outputs": [
    {
     "name": "stdout",
     "output_type": "stream",
     "text": [
      "YetGen Bitmez\n",
      "YetGen Bitmez\n",
      "YetGen Bitmez\n"
     ]
    }
   ],
   "source": [
    "#Değişkenler (bir verinin değerini saklamayı sağlar)\n",
    "yetgen=\"YetGen Bitmez\"\n",
    "print(yetgen)\n",
    "print(yetgen)\n",
    "print(yetgen)"
   ]
  },
  {
   "cell_type": "code",
   "execution_count": 21,
   "metadata": {},
   "outputs": [
    {
     "ename": "SyntaxError",
     "evalue": "invalid decimal literal (3049339955.py, line 2)",
     "output_type": "error",
     "traceback": [
      "\u001b[1;36m  Cell \u001b[1;32mIn[21], line 2\u001b[1;36m\u001b[0m\n\u001b[1;33m    1onur=\"Onur\" #Hata alırız çünkü değişkenler _ veya harfle başlar sayı ile başlayamaz\u001b[0m\n\u001b[1;37m    ^\u001b[0m\n\u001b[1;31mSyntaxError\u001b[0m\u001b[1;31m:\u001b[0m invalid decimal literal\n"
     ]
    }
   ],
   "source": [
    "#Değişken Tanımlama Kuralları\n",
    "1onur=\"Onur\" #Hata alırız çünkü değişkenler _ veya harfle başlar. Sayı ile başlayamaz\n"
   ]
  },
  {
   "cell_type": "code",
   "execution_count": 23,
   "metadata": {},
   "outputs": [
    {
     "name": "stdout",
     "output_type": "stream",
     "text": [
      "Onur\n",
      "Onur\n"
     ]
    }
   ],
   "source": [
    "onur=\"Onur\"\n",
    "_onur=\"Onur\"\n",
    "print(onur)\n",
    "print(_onur)"
   ]
  },
  {
   "cell_type": "code",
   "execution_count": 25,
   "metadata": {},
   "outputs": [
    {
     "name": "stdout",
     "output_type": "stream",
     "text": [
      "5\n"
     ]
    }
   ],
   "source": [
    "sayı=5        #Değişken tanımlarken Türkçe karakter kullanmak gerek. Şu an bir sıkıntı çıkmadı ama ilerleyen süreçlerde çıkabilir.\n",
    "print(sayı) "
   ]
  },
  {
   "cell_type": "code",
   "execution_count": 28,
   "metadata": {},
   "outputs": [
    {
     "ename": "SyntaxError",
     "evalue": "invalid syntax (2940291878.py, line 3)",
     "output_type": "error",
     "traceback": [
      "\u001b[1;36m  Cell \u001b[1;32mIn[28], line 3\u001b[1;36m\u001b[0m\n\u001b[1;33m    isim soyisim=\"Mertcan Kırcı\"\u001b[0m\n\u001b[1;37m         ^\u001b[0m\n\u001b[1;31mSyntaxError\u001b[0m\u001b[1;31m:\u001b[0m invalid syntax\n"
     ]
    }
   ],
   "source": [
    "isimSoyisim=\"Onur Çokal\"   #Doğru kullanım camel case\n",
    "isim_soyisim=\"Onur Çokal\"  #Doğru kullanım snake case\n",
    "isim soyisim=\"Mertcan Kırcı\"  #Hatalı kullanım \n",
    "print(isimSoyisim)\n",
    "print(isim_soyisim)\n",
    "print(isim soyisim)"
   ]
  },
  {
   "cell_type": "code",
   "execution_count": 29,
   "metadata": {},
   "outputs": [
    {
     "name": "stdout",
     "output_type": "stream",
     "text": [
      "onur\n",
      "eray\n"
     ]
    }
   ],
   "source": [
    "#Python büyük küçük harf duyarlıdır yani bir değişkene büyük veya küçük harf verirsek farklı değişken tanımlamış oluruz.\n",
    "isim=\"onur\"\n",
    "Isim=\"eray\"\n",
    "print(isim)\n",
    "print(Isim)"
   ]
  },
  {
   "cell_type": "code",
   "execution_count": 34,
   "metadata": {},
   "outputs": [
    {
     "name": "stdout",
     "output_type": "stream",
     "text": [
      "<class 'str'>\n"
     ]
    },
    {
     "data": {
      "text/plain": [
       "str"
      ]
     },
     "execution_count": 34,
     "metadata": {},
     "output_type": "execute_result"
    }
   ],
   "source": [
    "#type komutu (Değişkenin integer, float, string veya boolen(True False) olduğunu söylüyor)\n",
    "print(type(\"Onur\")) \n",
    "type(\"onur\") #Direkt type olarak da yazılabilir.Ama sadece tek bir satırı çalıştırıyor \n",
    "#yani yazılan en son type komutu hangisi ise onu çalıştırıyor. "
   ]
  },
  {
   "cell_type": "code",
   "execution_count": 35,
   "metadata": {},
   "outputs": [
    {
     "name": "stdout",
     "output_type": "stream",
     "text": [
      "<class 'str'>\n",
      "<class 'bool'>\n",
      "<class 'float'>\n",
      "<class 'int'>\n"
     ]
    }
   ],
   "source": [
    "print(type(\"onur\"))\n",
    "print(type(True))\n",
    "print(type(3.14))\n",
    "print(type(3))"
   ]
  },
  {
   "cell_type": "code",
   "execution_count": 36,
   "metadata": {},
   "outputs": [
    {
     "name": "stdout",
     "output_type": "stream",
     "text": [
      "<class 'int'>\n",
      "<class 'float'>\n",
      "<class 'str'>\n",
      "<class 'bool'>\n"
     ]
    }
   ],
   "source": [
    "#Sayı Veri Türleri\n",
    "#int (tam sayıları temsil eder) (tam sayıları print ederken tırnak işaretine gerek yok)\n",
    "#float (ondalıklı sayıları temsil eder)\n",
    "#string (yazı ifadeleri)\n",
    "print(type(10))\n",
    "print(type(10.15))\n",
    "print(type(\"Galatasaray\"))\n",
    "print(type(True))"
   ]
  },
  {
   "cell_type": "code",
   "execution_count": null,
   "metadata": {},
   "outputs": [],
   "source": [
    "#Matematiksel işlemler\n",
    "#Aritmetik operatörler"
   ]
  },
  {
   "cell_type": "code",
   "execution_count": 3,
   "metadata": {},
   "outputs": [
    {
     "name": "stdout",
     "output_type": "stream",
     "text": [
      "9\n",
      "-1\n",
      "0.8\n",
      "20\n",
      "1.0\n",
      "1024\n",
      "4\n",
      "0\n"
     ]
    },
    {
     "data": {
      "text/plain": [
       "NoneType"
      ]
     },
     "execution_count": 3,
     "metadata": {},
     "output_type": "execute_result"
    }
   ],
   "source": [
    "a=4\n",
    "b=5\n",
    "print(a+b)\n",
    "print(a-b)\n",
    "print(a/b)\n",
    "print(a*b)\n",
    "print(3/3) #Böldüğümüz değerler tam sayıda olsa onu float değerlerine çeviriyor.\n",
    "print(a ** b) # üs alma  a nın b inci kuvveti\n",
    "print(a % b) #mod alma   a nın b ye bölümünden kalan\n",
    "print(a//b) #a b yi tam bölüyor mu"
   ]
  },
  {
   "cell_type": "code",
   "execution_count": 45,
   "metadata": {},
   "outputs": [
    {
     "name": "stdout",
     "output_type": "stream",
     "text": [
      "Merhaba Python\n"
     ]
    }
   ],
   "source": [
    "degisken = \"Merhaba Python\"\n",
    "print(degisken)"
   ]
  },
  {
   "cell_type": "code",
   "execution_count": 46,
   "metadata": {},
   "outputs": [
    {
     "name": "stdout",
     "output_type": "stream",
     "text": [
      "Python öğreniyorum\n"
     ]
    }
   ],
   "source": [
    "degisken = 'Python öğreniyorum'\n",
    "print(degisken)"
   ]
  },
  {
   "cell_type": "code",
   "execution_count": 49,
   "metadata": {},
   "outputs": [
    {
     "name": "stdout",
     "output_type": "stream",
     "text": [
      "P\n",
      "m\n"
     ]
    }
   ],
   "source": [
    "print(degisken[0]) #Değişken içerisindeki harfleri girdiğimiz sayıya göre bize gösterir.\n",
    "print(degisken[-1])"
   ]
  },
  {
   "cell_type": "code",
   "execution_count": 55,
   "metadata": {},
   "outputs": [
    {
     "name": "stdout",
     "output_type": "stream",
     "text": [
      "Onur Çokal\n"
     ]
    }
   ],
   "source": [
    "isim = \"Onur\"\n",
    "soyisim = \"Çokal\"\n",
    "yas = 23\n",
    "print(isim + \" \" + soyisim) #3 değişkeni aynı anda kullanamayız hata verir çümkü int ve str aynı yerde kullanılmıyor ama hepsi str veya int ise kullanılabilir."
   ]
  },
  {
   "cell_type": "code",
   "execution_count": 10,
   "metadata": {},
   "outputs": [
    {
     "ename": "NameError",
     "evalue": "name 'isim' is not defined",
     "output_type": "error",
     "traceback": [
      "\u001b[1;31m---------------------------------------------------------------------------\u001b[0m",
      "\u001b[1;31mNameError\u001b[0m                                 Traceback (most recent call last)",
      "Cell \u001b[1;32mIn[10], line 1\u001b[0m\n\u001b[1;32m----> 1\u001b[0m \u001b[39mprint\u001b[39m( isim , \u001b[39m\"\u001b[39m\u001b[39m \u001b[39m\u001b[39m\"\u001b[39m , soyisim , \u001b[39m\"\u001b[39m\u001b[39m \u001b[39m\u001b[39m\"\u001b[39m , yas) \u001b[39m# + kullanarak 3 değişkeni kullanamıyoruz ama virgülle birleştirebiliyoruz\u001b[39;00m\n",
      "\u001b[1;31mNameError\u001b[0m: name 'isim' is not defined"
     ]
    }
   ],
   "source": [
    "print(isim , \" \" , soyisim , \" \" , yas) # + kullanarak 3 değişkeni kullanamıyoruz ama virgülle birleştirebiliyoruz\n"
   ]
  },
  {
   "cell_type": "code",
   "execution_count": 59,
   "metadata": {},
   "outputs": [
    {
     "name": "stdout",
     "output_type": "stream",
     "text": [
      "Onur Çokal 23\n"
     ]
    }
   ],
   "source": [
    "print(f\"{isim} {soyisim} {yas}\") #süslü parantez kullanarakta yazdırabiliyoruzz\n"
   ]
  },
  {
   "cell_type": "code",
   "execution_count": 63,
   "metadata": {},
   "outputs": [
    {
     "name": "stdout",
     "output_type": "stream",
     "text": [
      "Merhaba onur\n",
      "Merhaba onur\n",
      "Merhaba onur\n"
     ]
    }
   ],
   "source": [
    "#input fonksiyonu (kullanıcıdan veri girişi almamızı sağlar)\n",
    "#input ile veri alınırken string gibi davranır bu yüzden input alırken sayı alacaksan int ya da float kullan \n",
    "\n",
    "isim = input(\"İsim Giriniz :\")\n",
    "print(f\"Merhaba {isim}\")\n",
    "print(\"Merhaba\" , isim)\n",
    "print(\"Merhaba \" + isim)"
   ]
  },
  {
   "cell_type": "code",
   "execution_count": 72,
   "metadata": {},
   "outputs": [
    {
     "name": "stdout",
     "output_type": "stream",
     "text": [
      "1525\n",
      "15 + 25 = 1525\n"
     ]
    }
   ],
   "source": [
    "sayi1 = input(\"Birinci sayıyı giriniz : \")\n",
    "sayi2 = input(\"İkinci sayıyı giriniz : \")\n",
    "print (sayi1 + sayi2) #Böyle yazarsak yazdığımız iki sayıyı str olarak görür ve arka arkaya ekler\n",
    "print (f\"{sayi1} + {sayi2} = {sayi1 + sayi2}\") #Değişkenler türünü tanımlamak dışında böyle bir çözümde var.\n"
   ]
  },
  {
   "cell_type": "code",
   "execution_count": 70,
   "metadata": {},
   "outputs": [
    {
     "name": "stdout",
     "output_type": "stream",
     "text": [
      "60.0\n"
     ]
    }
   ],
   "source": [
    "sayi1 = float (input(\"Birinci sayıyı giriniz : \")) #Değişken tanımlarken değişken türünü inputtan önce belirtirsek sonradan hata ile karşılaşmayız\n",
    "sayi2 = float (input(\"İkinci sayıyı giriniz : \"))\n",
    "print(sayi1+sayi2)"
   ]
  },
  {
   "cell_type": "code",
   "execution_count": 64,
   "metadata": {},
   "outputs": [
    {
     "name": "stdout",
     "output_type": "stream",
     "text": [
      "ortalamanız= 19.0\n"
     ]
    }
   ],
   "source": [
    "Birinci_sınav = input(\"birinci sınav notunu giriniz: \")\n",
    "İkinci_sınav = input(\"ikinci sınav notunu giriniz: \")\n",
    "n = 0.60\n",
    "m = 0.40\n",
    "print (\"ortalamanız=\" , float(Birinci_sınav) * n  + float(İkinci_sınav) * m  )"
   ]
  }
 ],
 "metadata": {
  "kernelspec": {
   "display_name": "Python 3",
   "language": "python",
   "name": "python3"
  },
  "language_info": {
   "codemirror_mode": {
    "name": "ipython",
    "version": 3
   },
   "file_extension": ".py",
   "mimetype": "text/x-python",
   "name": "python",
   "nbconvert_exporter": "python",
   "pygments_lexer": "ipython3",
   "version": "3.11.1"
  },
  "orig_nbformat": 4,
  "vscode": {
   "interpreter": {
    "hash": "ac205385d2ac2b4b5b91c25425d9118269942dd464033b5d50d9063bf3aba2ce"
   }
  }
 },
 "nbformat": 4,
 "nbformat_minor": 2
}
