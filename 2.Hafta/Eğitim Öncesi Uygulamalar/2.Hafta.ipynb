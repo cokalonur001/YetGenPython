{
 "cells": [
  {
   "cell_type": "code",
   "execution_count": null,
   "metadata": {},
   "outputs": [],
   "source": []
  }
 ],
 "metadata": {
  "kernelspec": {
   "display_name": "Python 3",
   "language": "python",
   "name": "python3"
  },
  "language_info": {
   "name": "python",
   "version": "3.11.1"
  },
  "orig_nbformat": 4,
  "vscode": {
   "interpreter": {
    "hash": "ac205385d2ac2b4b5b91c25425d9118269942dd464033b5d50d9063bf3aba2ce"
   }
  }
 },
 "nbformat": 4,
 "nbformat_minor": 2
}
