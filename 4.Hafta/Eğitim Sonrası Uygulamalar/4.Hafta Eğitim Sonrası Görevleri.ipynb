{
 "cells": [
  {
   "cell_type": "markdown",
   "metadata": {},
   "source": [
    "# Problem 1\n",
    "`ogrenciler` adında bir sözlük oluşturunuz. Kullanıcıdan döngü yardımıyla 3 öğrenci için veri girmesini isteyerek öğrencilerin sırasıyla okul numarası, isim, soy isim, telefon numarası ve doğum tarihi bilgilerini alınız. Aldığınız öğrenci bilgilerini yine aynı döngü yardımıyla `ogrenciler` adındaki sözlükte saklayınız. Daha sonra öğrenci bilgilerinin bulunduğu sözlük yapısını ekrana bastırınız.\n",
    "\n"
   ]
  },
  {
   "cell_type": "code",
   "execution_count": 80,
   "metadata": {},
   "outputs": [
    {
     "name": "stdout",
     "output_type": "stream",
     "text": [
      "Uygulamadan çıkmak için q tuşuna basınız\n",
      "{'isim': 'Onur', 'soy isim': 'Çokal', 'Tel No': '5551064563', 'D Tarihi': '02-01-2000'}\n",
      "Uygulamadan çıkmak için q tuşuna basınız\n",
      "{'isim': 'Eray', 'soy isim': 'Avcı', 'Tel No': '5555555555', 'D Tarihi': '07-04-2001'}\n",
      "Uygulamadan çıkmak için q tuşuna basınız\n",
      "{'isim': 'Uğur', 'soy isim': 'Yeni', 'Tel No': '5435555555', 'D Tarihi': '06-10-2000'}\n",
      "Uygulamadan çıkmak için q tuşuna basınız\n"
     ]
    }
   ],
   "source": [
    "# 1.Problemin Çözümünü Buraya Yazınız\n",
    "while True:\n",
    "    print(\"Uygulamadan çıkmak için q tuşuna basınız\")\n",
    "    isim = input(\"İsim giriniz: \")\n",
    "    soyisim = input(\"Soyisiminizi giriniz: \")\n",
    "    telNo = input(\"Telefon Numarasını giriniz: \")\n",
    "    dTarih = input(\"Doğum tarihinizi giriniz: \")\n",
    "    if(isim == \"q\"):\n",
    "        break\n",
    "    else:\n",
    "        ogrenciler = {\"isim\" : isim , \"soy isim\" : soyisim , \"Tel No\" : telNo , \"D Tarihi\" : dTarih}\n",
    "        print(ogrenciler)"
   ]
  },
  {
   "cell_type": "markdown",
   "metadata": {},
   "source": [
    "# Problem 2\n",
    "\n",
    "### a - Biraz ısınarak başlayalım!\n",
    "\n",
    "```\n",
    "numbers = [5,10,10,15,15,15,20,20,20,20]\n",
    "```\n",
    "\n",
    "Yukarıda `numbers` adında 10 elemanlı bir liste verilmiştir. Bu listenin her elemanını kontrol eden ve tekrar eden elemanları bir kez olacak şekilde başka bir listeye kopyalayan bir program yazınız. Son olarak oluşturduğunuz listeyi ekrana bastırınız.\n",
    "\n",
    "\n",
    "\n",
    "\n",
    "```\n",
    ">Output\n",
    "[5, 10, 15, 20]\n",
    "```\n"
   ]
  },
  {
   "cell_type": "code",
   "execution_count": 165,
   "metadata": {},
   "outputs": [
    {
     "name": "stdout",
     "output_type": "stream",
     "text": [
      "[5, 10, 15, 20]\n"
     ]
    }
   ],
   "source": [
    "# 2.Problemin a Şıkkının Çözümünü Buraya Yazınız\n",
    "numbers = [5,10,10,15,15,15,20,20,20,20,]\n",
    "kontrol = []\n",
    "\n",
    "for x in numbers:\n",
    "    if x not in kontrol:\n",
    "        kontrol.append(x)\n",
    "print(kontrol)\n",
    "    "
   ]
  },
  {
   "cell_type": "markdown",
   "metadata": {},
   "source": [
    "### 🌶️ b) Hadi işi biraz daha zorlaştıralım! \n",
    "\n",
    "\n",
    "Şimdiyse senden `numbers` isimli listedeki tekrar eden elemanları `repeatNumbers` adındaki listeye; tekrar etmeyen elemanları `uniqueNumbers`adındaki listeye kopyalayan yazmanı ve listeleri ekrana bastırmanı bekliyoruz\n",
    "\n",
    "```\n",
    ">Output\n",
    "Tekrar Eden Elemanlar: [10, 10, 15, 15, 15, 20, 20, 20, 20]\n",
    "Tekrar Etmeyen Elemanlar: [5]\n",
    "```"
   ]
  },
  {
   "cell_type": "code",
   "execution_count": 185,
   "metadata": {},
   "outputs": [
    {
     "name": "stdout",
     "output_type": "stream",
     "text": [
      "Tekrar Eden Elemanlar: [10, 15, 15, 20, 20, 20]\n",
      "Tekrar Etmeyen Elemanlar: [5, 10, 15, 20]\n"
     ]
    }
   ],
   "source": [
    "# 2.Problemin b Şıkkının Çözümünü Buraya Yazınız\n",
    "numbers = [5,10,10,15,15,15,20,20,20,20,]\n",
    "uniqueNumbers=[]\n",
    "repeatNumbers=[]\n",
    "\n",
    "for deger in numbers:\n",
    "    if deger not in uniqueNumbers:\n",
    "        uniqueNumbers.append(deger)\n",
    "    else:\n",
    "        repeatNumbers.append(deger)\n",
    "\n",
    "print(f\"Tekrar Eden Elemanlar: {repeatNumbers}\")\n",
    "print(f\"Tekrar Etmeyen Elemanlar: {uniqueNumbers}\")\n"
   ]
  },
  {
   "cell_type": "markdown",
   "metadata": {},
   "source": [
    "# Problem 3\n",
    "sn1 = {1,2,3,4,5}\n",
    "\n",
    "sn2 = {4,5,6,7,8}\n",
    "\n",
    " Verilen 2 adet küme için kesişimlerini, farklarını ve birleşimlerini bulunuz. "
   ]
  },
  {
   "cell_type": "code",
   "execution_count": 69,
   "metadata": {},
   "outputs": [
    {
     "data": {
      "text/plain": [
       "{1, 2, 3, 4, 5, 6, 7, 8}"
      ]
     },
     "execution_count": 69,
     "metadata": {},
     "output_type": "execute_result"
    }
   ],
   "source": [
    "# 3.Problemin Çözümünü Buraya Yazınız\n",
    "sn1 = {1,2,3,4,5}\n",
    "sn2 = {4,5,6,7,8}\n",
    "\n",
    "sn1.union(sn2)  # Birleşim"
   ]
  },
  {
   "cell_type": "code",
   "execution_count": 70,
   "metadata": {},
   "outputs": [
    {
     "data": {
      "text/plain": [
       "{4, 5}"
      ]
     },
     "execution_count": 70,
     "metadata": {},
     "output_type": "execute_result"
    }
   ],
   "source": [
    "sn1.intersection(sn2)  # Kesişim"
   ]
  },
  {
   "cell_type": "code",
   "execution_count": 71,
   "metadata": {},
   "outputs": [
    {
     "data": {
      "text/plain": [
       "{1, 2, 3}"
      ]
     },
     "execution_count": 71,
     "metadata": {},
     "output_type": "execute_result"
    }
   ],
   "source": [
    "sn1.difference(sn2)   # Farklar"
   ]
  },
  {
   "cell_type": "code",
   "execution_count": 72,
   "metadata": {},
   "outputs": [
    {
     "data": {
      "text/plain": [
       "{6, 7, 8}"
      ]
     },
     "execution_count": 72,
     "metadata": {},
     "output_type": "execute_result"
    }
   ],
   "source": [
    "sn2.difference(sn1)   # Farklar "
   ]
  },
  {
   "cell_type": "markdown",
   "metadata": {},
   "source": [
    "# Problem 4\n",
    "\n",
    "Buradaki işlemlerimizin tamamı stringler içindir. Aşağıda verilecek olan metodlar için kendinizin örnek yaratması gerekmektedir. \n",
    "\n",
    "Örneğin `upper` için `string` değişkeni oluştururken` k = \"BAC\"` şeklinde oluşturmayınız. Bunun yerine k değişkenini `k = \"bac`\" şeklinde oluşturmanız `upper` metodundaki değişimi görebilmeniz için daha iyi olacaktır.\n",
    "\n",
    "Bütün metodlardaki değişimin gözle görülür şekilde değişimi beklenmektedir.\n",
    "\n",
    "\n",
    "1- capitalize(), lower(), upper(), swapcase(), title(), replace()\n",
    "\n",
    "2- endswith(), startswith(), find(), index(), count()\n",
    "\n",
    "3- split(), strip(), join(), islower(), isalpha(), isdigit()\n",
    "\n",
    "\n",
    "Yukarıdaki `string` metodlarındaki değişimleri görebildiğimiz bir program yazınız.\n"
   ]
  },
  {
   "cell_type": "code",
   "execution_count": 113,
   "metadata": {},
   "outputs": [
    {
     "data": {
      "text/plain": [
       "'yetgen'"
      ]
     },
     "execution_count": 113,
     "metadata": {},
     "output_type": "execute_result"
    }
   ],
   "source": [
    "# 4.Problemin Çözümünü Buraya Yazınız\n",
    "#1\n",
    "onur = \"yetGen\"\n",
    "onur.capitalize()\n"
   ]
  },
  {
   "cell_type": "code",
   "execution_count": 114,
   "metadata": {},
   "outputs": [
    {
     "data": {
      "text/plain": [
       "'yetgen'"
      ]
     },
     "execution_count": 114,
     "metadata": {},
     "output_type": "execute_result"
    }
   ],
   "source": [
    "onur1 = \"yetGeN\"\n",
    "onur1.lower()"
   ]
  },
  {
   "cell_type": "code",
   "execution_count": 115,
   "metadata": {},
   "outputs": [
    {
     "data": {
      "text/plain": [
       "'YETGEN'"
      ]
     },
     "execution_count": 115,
     "metadata": {},
     "output_type": "execute_result"
    }
   ],
   "source": [
    "onur2 = \"YetGen\"\n",
    "onur2.upper()"
   ]
  },
  {
   "cell_type": "code",
   "execution_count": 118,
   "metadata": {},
   "outputs": [
    {
     "data": {
      "text/plain": [
       "'yETgEN'"
      ]
     },
     "execution_count": 118,
     "metadata": {},
     "output_type": "execute_result"
    }
   ],
   "source": [
    "onur3 = \"YetGen\"\n",
    "onur3.swapcase()"
   ]
  },
  {
   "cell_type": "code",
   "execution_count": 119,
   "metadata": {},
   "outputs": [
    {
     "data": {
      "text/plain": [
       "'Yetgen'"
      ]
     },
     "execution_count": 119,
     "metadata": {},
     "output_type": "execute_result"
    }
   ],
   "source": [
    "onur4 = \"yetGen\"\n",
    "onur4.title()"
   ]
  },
  {
   "cell_type": "code",
   "execution_count": 121,
   "metadata": {},
   "outputs": [
    {
     "data": {
      "text/plain": [
       "'YedGen'"
      ]
     },
     "execution_count": 121,
     "metadata": {},
     "output_type": "execute_result"
    }
   ],
   "source": [
    "onur5 = \"YetGen\"\n",
    "onur5.replace(\"t\" , \"d\")"
   ]
  },
  {
   "cell_type": "code",
   "execution_count": 134,
   "metadata": {},
   "outputs": [
    {
     "name": "stdout",
     "output_type": "stream",
     "text": [
      "True\n",
      "True\n",
      "-1\n",
      "5\n",
      "1\n",
      "['Onur', 'Çokal', '23', 'Ankara']\n",
      "YetGen\n",
      "O,n,u,r\n",
      "False\n",
      "True\n",
      "True\n"
     ]
    }
   ],
   "source": [
    "#2\n",
    "print(onur.startswith(\"y\")) #Değişkenin başındaki harfin doğruluğuna bakıyor\n",
    "print(onur.endswith(\"en\")) #Değişkenin sonundaki harflerin doğruluğuna bakıyor\n",
    "print(onur.find(\"Y\"))   # Yazılan harf var ise 0 veriyor yok ise -1 veriyor\n",
    "print(onur.index(\"n\"))  #Yazılan harfin kaçıncı indexte olduğuna bakıyor\n",
    "print(onur.count(\"n\"))  #Yazılan harften kaç tane olduğuna bakıyor\n",
    "\n",
    "#3\n",
    "yetgen = \"Onur Çokal 23 Ankara\"\n",
    "print(yetgen.split(\" \"))    #Uzun yazıyı parçalıyor yani stringi parçalıyor\n",
    "\n",
    "bosluk = \"  YetGen  \"\n",
    "print(bosluk.strip())    #Bir değişkenin başındaki ve sonundaki boşlukları siliyor\n",
    "\n",
    "sep = \"Onur\"\n",
    "sep1 = \",\"\n",
    "print(sep1.join(sep))    #Bir değişkenin aralarına diğer değişkeni ekliyor\n",
    "\n",
    "onur = \"yetGen\"\n",
    "print(onur.islower())  #Tamamen küçük harflerden oluşup oluşmadığını kontrol ediyor\n",
    "\n",
    "print(\"abc\".isalpha())   #Alfabetik mi kontrolü yapıyor\n",
    "\n",
    "print(\"123\".isdigit())    #Sıralı sayı mı onu kontrol ediyor\n"
   ]
  }
 ],
 "metadata": {
  "kernelspec": {
   "display_name": "Python 3.10.5 64-bit",
   "language": "python",
   "name": "python3"
  },
  "language_info": {
   "codemirror_mode": {
    "name": "ipython",
    "version": 3
   },
   "file_extension": ".py",
   "mimetype": "text/x-python",
   "name": "python",
   "nbconvert_exporter": "python",
   "pygments_lexer": "ipython3",
   "version": "3.11.1"
  },
  "orig_nbformat": 4,
  "vscode": {
   "interpreter": {
    "hash": "5026d2d6e7aaaaba093def813beadff083d8733e4a511af01735cbabd156995d"
   }
  }
 },
 "nbformat": 4,
 "nbformat_minor": 2
}
