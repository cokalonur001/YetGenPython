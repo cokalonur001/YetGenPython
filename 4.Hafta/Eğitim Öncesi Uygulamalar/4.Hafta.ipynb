{
 "cells": [
  {
   "attachments": {},
   "cell_type": "markdown",
   "metadata": {},
   "source": [
    "Listeler\n",
    "[] içerisinde tutulurlar\n",
    "Indexleme, veri güncelleme, silme, veri ekleme gibi işlemler yapılabilir\n",
    "İç içe listeleme işlemi yapılabilir. "
   ]
  },
  {
   "cell_type": "code",
   "execution_count": 1,
   "metadata": {},
   "outputs": [
    {
     "name": "stdout",
     "output_type": "stream",
     "text": [
      "['Ahmet', 'Eslem', 'Berkcan', 'Çağla']\n"
     ]
    }
   ],
   "source": [
    "liderler= [\"Ahmet\" , \"Eslem\" , \"Berkcan\" , \"Çağla\"]\n",
    "print(liderler) \n"
   ]
  },
  {
   "cell_type": "code",
   "execution_count": 3,
   "metadata": {},
   "outputs": [
    {
     "name": "stdout",
     "output_type": "stream",
     "text": [
      "Ahmet\n",
      "Çağla\n"
     ]
    }
   ],
   "source": [
    "print(liderler[0]) #Listenin 1. elemanı 0. eleman olarak geçer.\n",
    "print(liderler[-1])"
   ]
  },
  {
   "attachments": {},
   "cell_type": "markdown",
   "metadata": {},
   "source": [
    "Liste Metodları\n",
    "append() : Listenin sonuna eleman ekler\n",
    "remove() : Listeden içerisindeki elemanı siler."
   ]
  },
  {
   "cell_type": "code",
   "execution_count": 4,
   "metadata": {},
   "outputs": [
    {
     "name": "stdout",
     "output_type": "stream",
     "text": [
      "['Ahmet', 'Eslem', 'Berkcan', 'Çağla', 'Emirhan']\n"
     ]
    }
   ],
   "source": [
    "liderler.append(\"Emirhan\")\n",
    "print(liderler)"
   ]
  },
  {
   "cell_type": "code",
   "execution_count": 5,
   "metadata": {},
   "outputs": [
    {
     "name": "stdout",
     "output_type": "stream",
     "text": [
      "['Ahmet', 'Eslem', 'Çağla', 'Emirhan']\n"
     ]
    }
   ],
   "source": [
    "liderler.remove(\"Berkcan\")\n",
    "print(liderler)"
   ]
  },
  {
   "cell_type": "code",
   "execution_count": 9,
   "metadata": {},
   "outputs": [
    {
     "name": "stdout",
     "output_type": "stream",
     "text": [
      "['Ahmet', 'Eslem', 'Berkcan', 'Emirhan']\n"
     ]
    }
   ],
   "source": [
    "liderler[2]=\"Berkcan\" #Böyle yapmak 2. Elemanı berkcan olarak güncelle demek oluyor \n",
    "print(liderler)"
   ]
  },
  {
   "attachments": {},
   "cell_type": "markdown",
   "metadata": {},
   "source": [
    "len() : listenin uzunluğunu verir."
   ]
  },
  {
   "cell_type": "code",
   "execution_count": 8,
   "metadata": {},
   "outputs": [
    {
     "name": "stdout",
     "output_type": "stream",
     "text": [
      "4\n"
     ]
    }
   ],
   "source": [
    "print(len(liderler))"
   ]
  },
  {
   "attachments": {},
   "cell_type": "markdown",
   "metadata": {},
   "source": [
    "clear() : Listenin içerisindeki elemanları siler.\n"
   ]
  },
  {
   "cell_type": "code",
   "execution_count": 11,
   "metadata": {},
   "outputs": [
    {
     "name": "stdout",
     "output_type": "stream",
     "text": [
      "[]\n"
     ]
    }
   ],
   "source": [
    "liderler.clear()\n",
    "print(liderler)"
   ]
  },
  {
   "attachments": {},
   "cell_type": "markdown",
   "metadata": {},
   "source": [
    "index()\n",
    "listedeki eleman indexini verir.\n",
    "Aranan veriyi ilk bulduğunda durur. Diğer verilerde aynı veri varsa getirmez.\n",
    "Eğer veri bulunamazsa ValueError hatası verir."
   ]
  },
  {
   "cell_type": "code",
   "execution_count": 1,
   "metadata": {},
   "outputs": [
    {
     "name": "stdout",
     "output_type": "stream",
     "text": [
      "['Ankara', 'İstanbul', 'İzmir']\n"
     ]
    }
   ],
   "source": [
    "şehirler = list((\"Ankara\" , \"İstanbul\" , \"İzmir\")) #Liste oluşturmanın diğer metodu ve aynı zamanda bu metotta iki parantez kullanmaz ise hata alırız.\n",
    "print(şehirler)"
   ]
  },
  {
   "cell_type": "code",
   "execution_count": 3,
   "metadata": {},
   "outputs": [
    {
     "name": "stdout",
     "output_type": "stream",
     "text": [
      "Ankara'nın indexi :  0\n"
     ]
    }
   ],
   "source": [
    "print(\"Ankara'nın indexi : \" , (şehirler.index(\"Ankara\"))) #index ile kaçıncı sırada olduğunu görmüş olduk"
   ]
  },
  {
   "cell_type": "code",
   "execution_count": 5,
   "metadata": {},
   "outputs": [
    {
     "ename": "ValueError",
     "evalue": "'Antalya' is not in list",
     "output_type": "error",
     "traceback": [
      "\u001b[1;31m---------------------------------------------------------------------------\u001b[0m",
      "\u001b[1;31mValueError\u001b[0m                                Traceback (most recent call last)",
      "Cell \u001b[1;32mIn[5], line 1\u001b[0m\n\u001b[1;32m----> 1\u001b[0m \u001b[39mprint\u001b[39m(\u001b[39m\"\u001b[39m\u001b[39mAntalya\u001b[39m\u001b[39m'\u001b[39m\u001b[39mnın indexi : \u001b[39m\u001b[39m\"\u001b[39m , (şehirler\u001b[39m.\u001b[39;49mindex(\u001b[39m\"\u001b[39;49m\u001b[39mAntalya\u001b[39;49m\u001b[39m\"\u001b[39;49m)))\n",
      "\u001b[1;31mValueError\u001b[0m: 'Antalya' is not in list"
     ]
    }
   ],
   "source": [
    "print(\"Antalya'nın indexi : \" , (şehirler.index(\"Antalya\"))) #Antalya listede olmadığı için value error hatası aldık"
   ]
  },
  {
   "attachments": {},
   "cell_type": "markdown",
   "metadata": {},
   "source": [
    "pop() : listedeki elemanı siler.\n",
    "index verilmezse son elemanı siler\n",
    "index verilirse verilen indexteki elemanı siler."
   ]
  },
  {
   "cell_type": "code",
   "execution_count": 14,
   "metadata": {},
   "outputs": [
    {
     "name": "stdout",
     "output_type": "stream",
     "text": [
      "['Ankara', 'İstanbul']\n"
     ]
    }
   ],
   "source": [
    "şehirler = list((\"Ankara\" , \"İstanbul\" , \"İzmir\"))\n",
    "şehirler.pop() #index verilmez ise sondaki elemanı siler\n",
    "print(şehirler)"
   ]
  },
  {
   "cell_type": "code",
   "execution_count": 15,
   "metadata": {},
   "outputs": [
    {
     "name": "stdout",
     "output_type": "stream",
     "text": [
      "['İstanbul']\n"
     ]
    }
   ],
   "source": [
    "şehirler.pop(0) #0. elemanı sildi\n",
    "print(şehirler)"
   ]
  },
  {
   "attachments": {},
   "cell_type": "markdown",
   "metadata": {},
   "source": [
    "insert() : istenilen indexe eleman ekler."
   ]
  },
  {
   "cell_type": "code",
   "execution_count": 17,
   "metadata": {},
   "outputs": [
    {
     "name": "stdout",
     "output_type": "stream",
     "text": [
      "['Adana', 'istanbul', 'İzmir', 'Ankara', 'İstanbul', 'İzmir']\n"
     ]
    }
   ],
   "source": [
    "şehirler = list((\"Ankara\" , \"İstanbul\" , \"İzmir\"))\n",
    "şehirler.insert(0 , \"Adana\")\n",
    "şehirler.insert(1 , \"istanbul\")\n",
    "şehirler.insert(2 , \"İzmir\")\n",
    "print(şehirler)"
   ]
  },
  {
   "attachments": {},
   "cell_type": "markdown",
   "metadata": {},
   "source": [
    "reverse() : Listeyi ters çevirir."
   ]
  },
  {
   "cell_type": "code",
   "execution_count": 19,
   "metadata": {},
   "outputs": [
    {
     "name": "stdout",
     "output_type": "stream",
     "text": [
      "['İzmir', 'İstanbul', 'Ankara']\n"
     ]
    }
   ],
   "source": [
    "şehirler = list((\"Ankara\" , \"İstanbul\" , \"İzmir\"))\n",
    "şehirler.reverse()\n",
    "print(şehirler)"
   ]
  },
  {
   "attachments": {},
   "cell_type": "markdown",
   "metadata": {},
   "source": [
    "sort() : Listeyi küçükten büyüğe sıralar."
   ]
  },
  {
   "cell_type": "code",
   "execution_count": 20,
   "metadata": {},
   "outputs": [
    {
     "name": "stdout",
     "output_type": "stream",
     "text": [
      "['Ankara', 'İstanbul', 'İzmir']\n"
     ]
    }
   ],
   "source": [
    "şehirler.sort()\n",
    "print(şehirler)"
   ]
  },
  {
   "attachments": {},
   "cell_type": "markdown",
   "metadata": {},
   "source": [
    "Liste Toplama\n",
    "+ : iki listeyi birleştirir."
   ]
  },
  {
   "cell_type": "code",
   "execution_count": 21,
   "metadata": {},
   "outputs": [
    {
     "name": "stdout",
     "output_type": "stream",
     "text": [
      "['Berkcan', 'Ahmet', 'Enes', 'Çağla']\n"
     ]
    }
   ],
   "source": [
    "liste1= [\"Berkcan\" , \"Ahmet\"]\n",
    "liste2= [\"Enes\" , \"Çağla\"]\n",
    "print(liste1 + liste2)"
   ]
  },
  {
   "cell_type": "code",
   "execution_count": 23,
   "metadata": {},
   "outputs": [
    {
     "name": "stdout",
     "output_type": "stream",
     "text": [
      "1\n",
      "5\n",
      "berkcan\n",
      "4\n",
      "6\n",
      "z\n"
     ]
    }
   ],
   "source": [
    "nestedlist = [1 , 5 , \"berkcan\" , 4 , [6 , \"z\"]]\n",
    "print(nestedlist[0])\n",
    "print(nestedlist[1])\n",
    "print(nestedlist[2])\n",
    "print(nestedlist[3])\n",
    "print(nestedlist[4][0]) #listenin 4. elemanının 1. elemanı\n",
    "print(nestedlist[4][1]) #listenin 4. elemanının 2. elemanı"
   ]
  },
  {
   "attachments": {},
   "cell_type": "markdown",
   "metadata": {},
   "source": [
    "TUPLE(DEMET)\n",
    "Tuple listelere benzerdir.\n",
    "Tuple ile liste arasındaki en önemli fark tuple elemanlarının değiştirilemez, liste elemanlarının değiştirilebilir olmasıdır. \n",
    "Performanslı bir data sağlar. \n",
    "() içerisinde tanımlanabilir. \n",
    "iç içe tuple oluşturulabilir.\n",
    "Liste içerisinde tuple, tuple içerisinde liste tanımlamak mümkündür.\n",
    "Bir kere tanımlandıktan sonra değiştirilemezler yalnızca okunurlar.\n",
    "Tek elemansa tuple olduğunu belirtmek için virgül koyulmalıdır."
   ]
  },
  {
   "cell_type": "code",
   "execution_count": 28,
   "metadata": {},
   "outputs": [
    {
     "name": "stdout",
     "output_type": "stream",
     "text": [
      "<class 'tuple'>\n",
      "(2, 4, 6, 'Ankara', [2, 4, 6])\n",
      "5\n"
     ]
    }
   ],
   "source": [
    "tupleList = (2,4,6,\"Ankara\",[2,4,6])\n",
    "print(type(tupleList))\n",
    "print(tupleList)\n",
    "print(len(tupleList))"
   ]
  },
  {
   "cell_type": "code",
   "execution_count": 30,
   "metadata": {},
   "outputs": [
    {
     "ename": "TypeError",
     "evalue": "'tuple' object does not support item assignment",
     "output_type": "error",
     "traceback": [
      "\u001b[1;31m---------------------------------------------------------------------------\u001b[0m",
      "\u001b[1;31mTypeError\u001b[0m                                 Traceback (most recent call last)",
      "Cell \u001b[1;32mIn[30], line 1\u001b[0m\n\u001b[1;32m----> 1\u001b[0m tupleList[\u001b[39m0\u001b[39;49m] \u001b[39m=\u001b[39m \u001b[39m5\u001b[39m\n\u001b[0;32m      2\u001b[0m \u001b[39mprint\u001b[39m(tupleList) \u001b[39m#Tuple türündeki listelerde eleman değişimi yapılamaz.\u001b[39;00m\n",
      "\u001b[1;31mTypeError\u001b[0m: 'tuple' object does not support item assignment"
     ]
    }
   ],
   "source": [
    "tupleList[0] = 5\n",
    "print(tupleList) #Tuple türündeki listelerde eleman değişimi yapılamaz."
   ]
  },
  {
   "cell_type": "code",
   "execution_count": 31,
   "metadata": {},
   "outputs": [
    {
     "name": "stdout",
     "output_type": "stream",
     "text": [
      "Ankara\n"
     ]
    }
   ],
   "source": [
    "print(tupleList[-2])"
   ]
  },
  {
   "cell_type": "code",
   "execution_count": 32,
   "metadata": {},
   "outputs": [
    {
     "name": "stdout",
     "output_type": "stream",
     "text": [
      "(4,)\n"
     ]
    }
   ],
   "source": [
    "print(tupleList[1:2]) #1. elemandan 2. elemana kadar olan kısım"
   ]
  },
  {
   "attachments": {},
   "cell_type": "markdown",
   "metadata": {},
   "source": [
    "SET\n",
    "Listelere benzer.\n",
    "En önemli özelliği indexsiz ve sırasız elemanlardan oluşmasıdır.\n",
    "Veri tekrarı söz konusu değildir. Tüm elemanlar eşsizdir.\n",
    "{} içerisinde tanımlanır.\n",
    "Çok hızlı bir veri tipidir.\n"
   ]
  },
  {
   "cell_type": "code",
   "execution_count": 35,
   "metadata": {},
   "outputs": [
    {
     "name": "stdout",
     "output_type": "stream",
     "text": [
      "{'Ahmet', 'Berkcan'}\n",
      "<class 'set'>\n"
     ]
    }
   ],
   "source": [
    "liderler = {\"Berkcan\" , \"Ahmet\" , \"Ahmet\"} #2 adet ahmet olması hata vermez ama tek olarak çıktı verir.\n",
    "print(liderler)\n",
    "print(type(liderler))"
   ]
  },
  {
   "cell_type": "code",
   "execution_count": 36,
   "metadata": {},
   "outputs": [
    {
     "ename": "TypeError",
     "evalue": "'set' object is not subscriptable",
     "output_type": "error",
     "traceback": [
      "\u001b[1;31m---------------------------------------------------------------------------\u001b[0m",
      "\u001b[1;31mTypeError\u001b[0m                                 Traceback (most recent call last)",
      "Cell \u001b[1;32mIn[36], line 1\u001b[0m\n\u001b[1;32m----> 1\u001b[0m \u001b[39mprint\u001b[39m(liderler[\u001b[39m0\u001b[39;49m])\n",
      "\u001b[1;31mTypeError\u001b[0m: 'set' object is not subscriptable"
     ]
    }
   ],
   "source": [
    "print(liderler[0]) #Set türündeki listeler indexlenmediği için hata verir"
   ]
  },
  {
   "cell_type": "code",
   "execution_count": 37,
   "metadata": {},
   "outputs": [
    {
     "name": "stdout",
     "output_type": "stream",
     "text": [
      "Ahmet\n",
      "Berkcan\n"
     ]
    }
   ],
   "source": [
    "for lider in liderler: #for döngüsü ile döndürebiliyoruz.\n",
    "    print(lider)"
   ]
  },
  {
   "cell_type": "code",
   "execution_count": 39,
   "metadata": {},
   "outputs": [
    {
     "name": "stdout",
     "output_type": "stream",
     "text": [
      "True\n"
     ]
    }
   ],
   "source": [
    "print(\"Berkcan\" in liderler) #içerisinde bir elemanın varlığını kontrol edebiliyoruz."
   ]
  },
  {
   "attachments": {},
   "cell_type": "markdown",
   "metadata": {},
   "source": [
    "SET METODLARI\n",
    "add() : Sete eleman ekler.\n",
    "remove() : Setten eleman siler.\n",
    "clear() : Setin içerisindeki elemanı siler.\n",
    "pop() : Setin son elemanını siler\n",
    "update() : Sete eleman ekler \n",
    "union() : İki seti birleştirir.\n",
    "intersection() : İki setin kesişimini alır.\n",
    "difference() : İki setin farkını alır."
   ]
  },
  {
   "cell_type": "code",
   "execution_count": 41,
   "metadata": {},
   "outputs": [
    {
     "name": "stdout",
     "output_type": "stream",
     "text": [
      "{'Ahmet', 'Enes', 'Berkcan'}\n"
     ]
    }
   ],
   "source": [
    "liderler.add(\"Enes\")\n",
    "print(liderler)"
   ]
  },
  {
   "cell_type": "code",
   "execution_count": 42,
   "metadata": {},
   "outputs": [
    {
     "name": "stdout",
     "output_type": "stream",
     "text": [
      "{'Ahmet', 'Enes', 'Eslem', 'Çağla', 'Emirhan', 'Berkcan'}\n"
     ]
    }
   ],
   "source": [
    "liderler.update([\"Emirhan\" , \"Eslem\" , \"Çağla\"])\n",
    "print(liderler)"
   ]
  },
  {
   "cell_type": "code",
   "execution_count": 43,
   "metadata": {},
   "outputs": [
    {
     "name": "stdout",
     "output_type": "stream",
     "text": [
      "{'Ahmet', 'Enes', 'Eslem', 'Çağla', 'Emirhan'}\n"
     ]
    }
   ],
   "source": [
    "liderler.remove(\"Berkcan\")\n",
    "print(liderler)"
   ]
  },
  {
   "cell_type": "code",
   "execution_count": 44,
   "metadata": {},
   "outputs": [
    {
     "name": "stdout",
     "output_type": "stream",
     "text": [
      "{'Enes', 'Eslem', 'Çağla', 'Emirhan'}\n"
     ]
    }
   ],
   "source": [
    "liderler.pop()\n",
    "print(liderler)"
   ]
  },
  {
   "cell_type": "code",
   "execution_count": 45,
   "metadata": {},
   "outputs": [
    {
     "data": {
      "text/plain": [
       "{1, 2, 3, 4}"
      ]
     },
     "execution_count": 45,
     "metadata": {},
     "output_type": "execute_result"
    }
   ],
   "source": [
    "set1 = {1,2,3}\n",
    "set2 = {2,3,4}\n",
    "set1.union(set2) #Aynı elemandan iki tane olmayacak şekilde sıralar\n"
   ]
  },
  {
   "cell_type": "code",
   "execution_count": 46,
   "metadata": {},
   "outputs": [
    {
     "data": {
      "text/plain": [
       "{2, 3}"
      ]
     },
     "execution_count": 46,
     "metadata": {},
     "output_type": "execute_result"
    }
   ],
   "source": [
    "set1.intersection(set2) #ortak elemanları sıralar"
   ]
  },
  {
   "cell_type": "code",
   "execution_count": 47,
   "metadata": {},
   "outputs": [
    {
     "data": {
      "text/plain": [
       "{1}"
      ]
     },
     "execution_count": 47,
     "metadata": {},
     "output_type": "execute_result"
    }
   ],
   "source": [
    "set1.difference(set2) #set1 in set2 den farkı"
   ]
  },
  {
   "cell_type": "code",
   "execution_count": 48,
   "metadata": {},
   "outputs": [
    {
     "data": {
      "text/plain": [
       "{4}"
      ]
     },
     "execution_count": 48,
     "metadata": {},
     "output_type": "execute_result"
    }
   ],
   "source": [
    "set2.difference(set1) #set2 nin set1 den farkı"
   ]
  },
  {
   "cell_type": "code",
   "execution_count": 50,
   "metadata": {},
   "outputs": [
    {
     "data": {
      "text/plain": [
       "set()"
      ]
     },
     "execution_count": 50,
     "metadata": {},
     "output_type": "execute_result"
    }
   ],
   "source": [
    "set1.clear() #Seti boşalttı\n",
    "set1"
   ]
  },
  {
   "attachments": {},
   "cell_type": "markdown",
   "metadata": {},
   "source": [
    "DİCTİONARY (Sözlük)\n",
    "Sırasız veri tutar.\n",
    "Günlük hayatta olan sözlükler gibi düşünebiliriz.\n",
    "{} arasında tanımlanır.\n",
    "key:anahtar - bir bilgiye ulaşmak için kullanılır.\n",
    "value: değer\n",
    "key - value için örnek verecek olursak: {06:\"Ankara\"} 06 key Ankara value \n",
    "dict(\"\") şeklinde de sözlük tanımlayabiliriz."
   ]
  },
  {
   "cell_type": "code",
   "execution_count": 53,
   "metadata": {},
   "outputs": [
    {
     "name": "stdout",
     "output_type": "stream",
     "text": [
      "{'book': 'kitap', 'table': 'masa'}\n",
      "<class 'dict'>\n",
      "masa\n"
     ]
    }
   ],
   "source": [
    "sozluk = {\"book\" : \"kitap\" , \"table\" : \"masa\"}\n",
    "print(sozluk)\n",
    "print(type(sozluk))\n",
    "print(sozluk[\"table\"]) "
   ]
  },
  {
   "attachments": {},
   "cell_type": "markdown",
   "metadata": {},
   "source": [
    "Sözlüklere integer,float,string ya da tuple veri tipleri kullanılırken listeler ve sözcükler kullanılamaz."
   ]
  },
  {
   "attachments": {},
   "cell_type": "markdown",
   "metadata": {},
   "source": [
    "VERİ EKLEME"
   ]
  },
  {
   "cell_type": "code",
   "execution_count": 56,
   "metadata": {},
   "outputs": [
    {
     "name": "stdout",
     "output_type": "stream",
     "text": [
      "{'book': 'kitap', 'table': 'masa', 'pencil': 'kalem'}\n"
     ]
    }
   ],
   "source": [
    "sozluk[\"pencil\"] = \"kalem\" #Eklemek istediğimizi bu şekilde köşeli ile sola karşılığınıda eşittir olarak karşısına koyuyoruz.\n",
    "print(sozluk)"
   ]
  },
  {
   "attachments": {},
   "cell_type": "markdown",
   "metadata": {},
   "source": [
    "VERİ GÜNCELLEME"
   ]
  },
  {
   "cell_type": "code",
   "execution_count": 57,
   "metadata": {},
   "outputs": [
    {
     "name": "stdout",
     "output_type": "stream",
     "text": [
      "{'book': 'kitaplar', 'table': 'masa', 'pencil': 'kalem'}\n"
     ]
    }
   ],
   "source": [
    "sozluk[\"book\"] = \"kitaplar\"\n",
    "print(sozluk)"
   ]
  },
  {
   "attachments": {},
   "cell_type": "markdown",
   "metadata": {},
   "source": [
    "VERİ SİLME"
   ]
  },
  {
   "cell_type": "code",
   "execution_count": 61,
   "metadata": {},
   "outputs": [
    {
     "name": "stdout",
     "output_type": "stream",
     "text": [
      "{'pencil': 'kalem'}\n"
     ]
    }
   ],
   "source": [
    "del(sozluk[\"table\"])\n",
    "print(sozluk)"
   ]
  },
  {
   "attachments": {},
   "cell_type": "markdown",
   "metadata": {},
   "source": [
    "VALUE'NİN SÖZLÜK OLMASI"
   ]
  },
  {
   "cell_type": "code",
   "execution_count": 62,
   "metadata": {},
   "outputs": [
    {
     "name": "stdout",
     "output_type": "stream",
     "text": [
      "{1: {'TL': 'Türkiye'}}\n"
     ]
    }
   ],
   "source": [
    "sozlukValue = {1: {\"TL\" : \"Türkiye\"}}\n",
    "print(sozlukValue)"
   ]
  },
  {
   "attachments": {},
   "cell_type": "markdown",
   "metadata": {},
   "source": [
    "SÖZLÜK METODLARI\n",
    "keys(): Sözlükteki keyleri verir.\n",
    "values(): Sözlükteki valueleri verir.\n",
    "items(): Sözlükteki key ve value çiftlerini verir."
   ]
  },
  {
   "cell_type": "code",
   "execution_count": 63,
   "metadata": {},
   "outputs": [
    {
     "data": {
      "text/plain": [
       "dict_keys(['pencil'])"
      ]
     },
     "execution_count": 63,
     "metadata": {},
     "output_type": "execute_result"
    }
   ],
   "source": [
    "sozluk.keys()"
   ]
  },
  {
   "cell_type": "code",
   "execution_count": 64,
   "metadata": {},
   "outputs": [
    {
     "data": {
      "text/plain": [
       "dict_values(['kalem'])"
      ]
     },
     "execution_count": 64,
     "metadata": {},
     "output_type": "execute_result"
    }
   ],
   "source": [
    "sozluk.values()"
   ]
  },
  {
   "cell_type": "code",
   "execution_count": 65,
   "metadata": {},
   "outputs": [
    {
     "data": {
      "text/plain": [
       "dict_items([('pencil', 'kalem')])"
      ]
     },
     "execution_count": 65,
     "metadata": {},
     "output_type": "execute_result"
    }
   ],
   "source": [
    "sozluk.items()"
   ]
  },
  {
   "attachments": {},
   "cell_type": "markdown",
   "metadata": {},
   "source": [
    "STRİNG PARÇALAMA"
   ]
  },
  {
   "cell_type": "code",
   "execution_count": 71,
   "metadata": {},
   "outputs": [],
   "source": [
    "x = \"YetGen\""
   ]
  },
  {
   "cell_type": "code",
   "execution_count": 72,
   "metadata": {},
   "outputs": [
    {
     "name": "stdout",
     "output_type": "stream",
     "text": [
      "tGe\n"
     ]
    }
   ],
   "source": [
    "print(x[2 : 5]) #2 ile 5 arasını bastır"
   ]
  },
  {
   "cell_type": "code",
   "execution_count": 73,
   "metadata": {},
   "outputs": [
    {
     "name": "stdout",
     "output_type": "stream",
     "text": [
      "tGen\n"
     ]
    }
   ],
   "source": [
    "print(x[2:]) #2 den sonrasını bastır"
   ]
  },
  {
   "cell_type": "code",
   "execution_count": 74,
   "metadata": {},
   "outputs": [
    {
     "name": "stdout",
     "output_type": "stream",
     "text": [
      "Ye\n"
     ]
    }
   ],
   "source": [
    "print(x[:2]) #2 ye kadar olanı bastır"
   ]
  },
  {
   "cell_type": "code",
   "execution_count": 75,
   "metadata": {},
   "outputs": [
    {
     "name": "stdout",
     "output_type": "stream",
     "text": [
      "neGteY\n"
     ]
    }
   ],
   "source": [
    "print(x[::-1]) #Tersten yazdırma işlemi"
   ]
  },
  {
   "attachments": {},
   "cell_type": "markdown",
   "metadata": {},
   "source": [
    "STRİNG METOTLARI"
   ]
  },
  {
   "attachments": {},
   "cell_type": "markdown",
   "metadata": {},
   "source": [
    "len() : Stringin uzunluğunu verir."
   ]
  },
  {
   "cell_type": "code",
   "execution_count": 76,
   "metadata": {},
   "outputs": [
    {
     "name": "stdout",
     "output_type": "stream",
     "text": [
      "6\n"
     ]
    }
   ],
   "source": [
    "x = \"YetGen\"\n",
    "print(len(x))"
   ]
  },
  {
   "attachments": {},
   "cell_type": "markdown",
   "metadata": {},
   "source": [
    "upper() : Stringin tüm harflerini büyük harfe çevirir."
   ]
  },
  {
   "cell_type": "code",
   "execution_count": 78,
   "metadata": {},
   "outputs": [
    {
     "data": {
      "text/plain": [
       "'YETGEN'"
      ]
     },
     "execution_count": 78,
     "metadata": {},
     "output_type": "execute_result"
    }
   ],
   "source": [
    "x.upper()"
   ]
  },
  {
   "attachments": {},
   "cell_type": "markdown",
   "metadata": {},
   "source": [
    "lower() : Stringin tüm harflerini küçük harfe çevirir."
   ]
  },
  {
   "cell_type": "code",
   "execution_count": 79,
   "metadata": {},
   "outputs": [
    {
     "data": {
      "text/plain": [
       "'yetgen'"
      ]
     },
     "execution_count": 79,
     "metadata": {},
     "output_type": "execute_result"
    }
   ],
   "source": [
    "x.lower()"
   ]
  },
  {
   "attachments": {},
   "cell_type": "markdown",
   "metadata": {},
   "source": [
    "capitalize() : Stringin ilk harfini büyük harfe çevirir"
   ]
  },
  {
   "cell_type": "code",
   "execution_count": 80,
   "metadata": {},
   "outputs": [
    {
     "data": {
      "text/plain": [
       "'Yetgen'"
      ]
     },
     "execution_count": 80,
     "metadata": {},
     "output_type": "execute_result"
    }
   ],
   "source": [
    "x.capitalize()"
   ]
  },
  {
   "attachments": {},
   "cell_type": "markdown",
   "metadata": {},
   "source": [
    "swapcase() : Stringin tüm büyük harflerini küçük harfe, küçük harflerini büyük harfe çevirir."
   ]
  },
  {
   "cell_type": "code",
   "execution_count": 81,
   "metadata": {},
   "outputs": [
    {
     "data": {
      "text/plain": [
       "'yETgEN'"
      ]
     },
     "execution_count": 81,
     "metadata": {},
     "output_type": "execute_result"
    }
   ],
   "source": [
    "x.swapcase()"
   ]
  },
  {
   "attachments": {},
   "cell_type": "markdown",
   "metadata": {},
   "source": [
    "replace() : Stringin içerisindeki veriyi değiştirir."
   ]
  },
  {
   "cell_type": "code",
   "execution_count": 82,
   "metadata": {},
   "outputs": [
    {
     "data": {
      "text/plain": [
       "'YatGan'"
      ]
     },
     "execution_count": 82,
     "metadata": {},
     "output_type": "execute_result"
    }
   ],
   "source": [
    "x.replace(\"e\",\"a\")"
   ]
  },
  {
   "attachments": {},
   "cell_type": "markdown",
   "metadata": {},
   "source": [
    "split() : Stringi parçalar."
   ]
  },
  {
   "cell_type": "code",
   "execution_count": 83,
   "metadata": {},
   "outputs": [
    {
     "name": "stdout",
     "output_type": "stream",
     "text": [
      "['Onur', 'Çokal', '23', 'Ankara']\n"
     ]
    }
   ],
   "source": [
    "bilgi = \"Onur Çokal 23 Ankara\"\n",
    "print(bilgi.split(\" \"))"
   ]
  },
  {
   "cell_type": "code",
   "execution_count": 85,
   "metadata": {},
   "outputs": [
    {
     "name": "stdout",
     "output_type": "stream",
     "text": [
      "['Onur ', ' Çokal ', ' 23 ', ' Ankara']\n"
     ]
    }
   ],
   "source": [
    "bilgi2 = \"Onur ; Çokal ; 23 ; Ankara\"\n",
    "print(bilgi2.split(\";\"))"
   ]
  },
  {
   "attachments": {},
   "cell_type": "markdown",
   "metadata": {},
   "source": [
    "strip() : Stringin başındaki ve sonundaki boşlukları siler."
   ]
  },
  {
   "cell_type": "code",
   "execution_count": 86,
   "metadata": {},
   "outputs": [
    {
     "name": "stdout",
     "output_type": "stream",
     "text": [
      "YetGen\n"
     ]
    }
   ],
   "source": [
    "bosluk = \"  YetGen  \"\n",
    "print(bosluk.strip())"
   ]
  },
  {
   "attachments": {},
   "cell_type": "markdown",
   "metadata": {},
   "source": [
    "startswith() : Stringin belirtilen karakterlerle başlayıp başlamadığını kontrol eder.\n",
    "endswith() : Stringin belirtilen karakterle bitip bitmediğini kontrol eder."
   ]
  },
  {
   "cell_type": "code",
   "execution_count": 87,
   "metadata": {},
   "outputs": [
    {
     "name": "stdout",
     "output_type": "stream",
     "text": [
      "False\n",
      "True\n"
     ]
    }
   ],
   "source": [
    "yetgen = \"YetGen\"\n",
    "print(yetgen.startswith(\"y\")) #Küçük harf olduğu için false olacak\n",
    "print(yetgen.endswith(\"en\"))"
   ]
  },
  {
   "attachments": {},
   "cell_type": "markdown",
   "metadata": {},
   "source": [
    "find() : Stringin içerisindeki verinin indexini verir. Eğer veri yoksa -1 döndürür.\n",
    "index() : Stringin içerisindeki verinin indexini verir. Eğer veri yoksa valueError hatası verir."
   ]
  },
  {
   "cell_type": "code",
   "execution_count": 90,
   "metadata": {},
   "outputs": [
    {
     "name": "stdout",
     "output_type": "stream",
     "text": [
      "5\n"
     ]
    },
    {
     "ename": "ValueError",
     "evalue": "substring not found",
     "output_type": "error",
     "traceback": [
      "\u001b[1;31m---------------------------------------------------------------------------\u001b[0m",
      "\u001b[1;31mValueError\u001b[0m                                Traceback (most recent call last)",
      "Cell \u001b[1;32mIn[90], line 3\u001b[0m\n\u001b[0;32m      1\u001b[0m yetgen \u001b[39m=\u001b[39m \u001b[39m\"\u001b[39m\u001b[39mYetGen\u001b[39m\u001b[39m\"\u001b[39m\n\u001b[0;32m      2\u001b[0m \u001b[39mprint\u001b[39m(yetgen\u001b[39m.\u001b[39mindex(\u001b[39m\"\u001b[39m\u001b[39mn\u001b[39m\u001b[39m\"\u001b[39m))\n\u001b[1;32m----> 3\u001b[0m \u001b[39mprint\u001b[39m(yetgen\u001b[39m.\u001b[39;49mindex(\u001b[39m\"\u001b[39;49m\u001b[39mm\u001b[39;49m\u001b[39m\"\u001b[39;49m))\n",
      "\u001b[1;31mValueError\u001b[0m: substring not found"
     ]
    }
   ],
   "source": [
    "yetgen = \"YetGen\"\n",
    "print(yetgen.index(\"n\"))\n",
    "print(yetgen.index(\"m\")) #ValueError verecek (index olduğu için)\n"
   ]
  },
  {
   "cell_type": "code",
   "execution_count": 93,
   "metadata": {},
   "outputs": [
    {
     "name": "stdout",
     "output_type": "stream",
     "text": [
      "0\n",
      "-1\n"
     ]
    }
   ],
   "source": [
    "print(yetgen.find(\"Y\"))\n",
    "print(yetgen.find(\"m\")) #-1 verecek (find olduğu için)"
   ]
  },
  {
   "attachments": {},
   "cell_type": "markdown",
   "metadata": {},
   "source": [
    "isalpha() : Stringin tüm karakterlerinin alfabetik olup olmadığını kontrol eder."
   ]
  },
  {
   "cell_type": "code",
   "execution_count": 95,
   "metadata": {},
   "outputs": [
    {
     "name": "stdout",
     "output_type": "stream",
     "text": [
      "True\n"
     ]
    }
   ],
   "source": [
    "print(\"abc\".isalpha())"
   ]
  },
  {
   "attachments": {},
   "cell_type": "markdown",
   "metadata": {},
   "source": [
    "isdigit() : Stringin tüm karakterlerinin rakam olup olmadığını kontrol eder."
   ]
  },
  {
   "cell_type": "code",
   "execution_count": 96,
   "metadata": {},
   "outputs": [
    {
     "name": "stdout",
     "output_type": "stream",
     "text": [
      "True\n"
     ]
    }
   ],
   "source": [
    "print(\"123\".isdigit())"
   ]
  }
 ],
 "metadata": {
  "kernelspec": {
   "display_name": "Python 3",
   "language": "python",
   "name": "python3"
  },
  "language_info": {
   "codemirror_mode": {
    "name": "ipython",
    "version": 3
   },
   "file_extension": ".py",
   "mimetype": "text/x-python",
   "name": "python",
   "nbconvert_exporter": "python",
   "pygments_lexer": "ipython3",
   "version": "3.11.1"
  },
  "orig_nbformat": 4
 },
 "nbformat": 4,
 "nbformat_minor": 2
}
