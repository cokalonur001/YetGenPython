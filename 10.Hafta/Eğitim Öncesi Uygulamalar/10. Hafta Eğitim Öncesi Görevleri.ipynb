{
 "cells": [
  {
   "attachments": {},
   "cell_type": "markdown",
   "metadata": {},
   "source": [
    "# Problem 1"
   ]
  },
  {
   "cell_type": "code",
   "execution_count": 3,
   "metadata": {},
   "outputs": [
    {
     "name": "stdout",
     "output_type": "stream",
     "text": [
      "Matris:  [6 4 5 9 9]\n",
      "Matris boyutu:  (5,)\n",
      "Yeniden boyutlandırılmış matris:  [[6 4 5 9 9]]\n",
      "Yeniden boyutlandırılmış matris boyutu:  (1, 5)\n",
      "Boyut sayısı:  2\n"
     ]
    }
   ],
   "source": [
    "# 1 - numpy kütüphanesini import edin\n",
    "# 2 - 0 ile 10 arasında 5 sayıdan oluşan matris üretin\n",
    "# 3 - matris'in boyutunu öğrenin\n",
    "# 4 - matris'i yeniden boyutlandırın\n",
    "# 5 - matris'in boyut sayısını öğrenin\n",
    "import numpy as np\n",
    "\n",
    "matris = np.random.randint(0, 10, size=(5,))\n",
    "boyut = matris.shape\n",
    "yeniden_boyutlandirilmis_matris = matris.reshape((1, 5))\n",
    "boyut_sayisi = yeniden_boyutlandirilmis_matris.ndim\n",
    "\n",
    "print(\"Matris: \", matris)\n",
    "print(\"Matris boyutu: \", boyut)\n",
    "print(\"Yeniden boyutlandırılmış matris: \", yeniden_boyutlandirilmis_matris)\n",
    "print(\"Yeniden boyutlandırılmış matris boyutu: \", yeniden_boyutlandirilmis_matris.shape)\n",
    "print(\"Boyut sayısı: \", boyut_sayisi)"
   ]
  },
  {
   "attachments": {},
   "cell_type": "markdown",
   "metadata": {},
   "source": [
    "# Problem 2"
   ]
  },
  {
   "cell_type": "code",
   "execution_count": null,
   "metadata": {},
   "outputs": [],
   "source": [
    "# 1 - 0 ile 10 arasında bulunan tek sayılardan oluşan matris üretin\n",
    "\n",
    "# 2 - Oluşturduğunuz matrisi parçalayın\n",
    "\n",
    "# 3 - Parçalanmış matrisleri birleştirin\n"
   ]
  },
  {
   "attachments": {},
   "cell_type": "markdown",
   "metadata": {},
   "source": [
    "# Problem 3"
   ]
  },
  {
   "cell_type": "code",
   "execution_count": null,
   "metadata": {},
   "outputs": [],
   "source": [
    "# 1 - 5 ile 100 arasında ikişer ikişer atlayarak rastgele 10 sayıdan oluşan matris üretin\n",
    "\n",
    "# 2 - matris'in özelliklerini inceleyin\n"
   ]
  }
 ],
 "metadata": {
  "kernelspec": {
   "display_name": "Python 3",
   "language": "python",
   "name": "python3"
  },
  "language_info": {
   "codemirror_mode": {
    "name": "ipython",
    "version": 3
   },
   "file_extension": ".py",
   "mimetype": "text/x-python",
   "name": "python",
   "nbconvert_exporter": "python",
   "pygments_lexer": "ipython3",
   "version": "3.11.1"
  },
  "orig_nbformat": 4,
  "vscode": {
   "interpreter": {
    "hash": "5026d2d6e7aaaaba093def813beadff083d8733e4a511af01735cbabd156995d"
   }
  }
 },
 "nbformat": 4,
 "nbformat_minor": 2
}
