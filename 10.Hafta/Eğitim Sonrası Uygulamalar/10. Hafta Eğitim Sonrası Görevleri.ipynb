{
 "cells": [
  {
   "attachments": {},
   "cell_type": "markdown",
   "metadata": {},
   "source": [
    "# Problem 1 "
   ]
  },
  {
   "cell_type": "code",
   "execution_count": 3,
   "metadata": {},
   "outputs": [
    {
     "name": "stdout",
     "output_type": "stream",
     "text": [
      "[  5  20  23  37 498]\n"
     ]
    }
   ],
   "source": [
    "# 1 - numpy kütüphanesini import edin\n",
    "import numpy as np\n",
    "# 2 - 5 elemanlı bir numpy array oluşturun\n",
    "numpyArray = np.array([20,5,498,37,23])\n",
    "# 3 - Oluşturduğunuz arrayi küçükten büyüğe sıralayın.\n",
    "numpyArray.sort()\n",
    "print(numpyArray)"
   ]
  },
  {
   "attachments": {},
   "cell_type": "markdown",
   "metadata": {},
   "source": [
    "# Problem 2"
   ]
  },
  {
   "cell_type": "code",
   "execution_count": 4,
   "metadata": {},
   "outputs": [
    {
     "name": "stdout",
     "output_type": "stream",
     "text": [
      "[10 15 30 45 60]\n",
      "[ 5  6  7  8  9 10 11 12 13 14]\n",
      "[50 55 60 65 70 75 80 85 90 95]\n",
      "[0. 0. 0. 0. 0. 0. 0. 0. 0. 0.]\n",
      "[1. 1. 1. 1. 1. 1. 1. 1. 1. 1.]\n",
      "[  0.  25.  50.  75. 100.]\n",
      "[19 28 20 16 23]\n",
      "[ 0.97734969 -0.76566811  0.09467327 -0.5808407  -0.46458635  0.31852849\n",
      " -0.62414808 -0.88005439 -0.71624238  0.39213551]\n",
      "[[45 25 42 11 11]\n",
      " [42 29 46 48 47]\n",
      " [41 41 21 40 28]]\n",
      "[128  95 109  99  86]\n",
      "[134 212 171]\n",
      "48\n",
      "11\n",
      "34.46666666666667\n",
      "8\n",
      "[16 16 13]\n",
      "[15 13 16 17 15 13 16 16]\n",
      "[45 25 42 11 11]\n",
      "46\n",
      "[45 42 41]\n",
      "[[2025  625 1764  121  121]\n",
      " [1764  841 2116 2304 2209]\n",
      " [1681 1681  441 1600  784]]\n",
      "[[False False  True False False]\n",
      " [False False False False False]\n",
      " [False False False  True False]]\n"
     ]
    }
   ],
   "source": [
    "# 1- (10,15,30,45,60) değerlerine sahip numpy dizisi oluşturunuz.\n",
    "import numpy as np\n",
    "x=np.array([10,15,30,45,60])\n",
    "print(x)\n",
    "# 2- (5-15) arasındaki sayılarla numpy dizisi oluşturunuz.\n",
    "x2=np.arange(5,15)\n",
    "print(x2)\n",
    "# 3- (50-100) arasında 5'er 5'er artarak numpy dizisi oluşturunuz.\n",
    "x3=np.arange(50,100,5)\n",
    "print(x3)\n",
    "# 4- 10 elemanlı sıfırlardan oluşan bir dizi oluşturunuz.\n",
    "x4=np.zeros(10)\n",
    "print(x4)\n",
    "# 5- 10 elemanlı birlerden oluşan bir dizi oluşturunuz.\n",
    "x5=np.ones(10)\n",
    "print(x5)\n",
    "# 6- (0-100) arasında eşit aralıklı 5 sayı üretin.\n",
    "x6=np.linspace(0,100,5)\n",
    "print(x6)\n",
    "# 7- (10-30) arasında rastgele 5 tane tamsayı üretin.\n",
    "rastgeleSayı=np.random.randint(10,31,size=5)\n",
    "print(rastgeleSayı)\n",
    "# 8- [-1 ile 1] arasında 10 adet sayı üretin.\n",
    "rastgeleSayı2=np.random.uniform(-1,1,size=10)\n",
    "print(rastgeleSayı2)\n",
    "# 9- (3x5) boyutlarında (10-50) arasında rastgele bir matris oluşturunuz.\n",
    "rastgeleSayı3=np.random.randint(10, 50, size=(3,5))\n",
    "print(rastgeleSayı3)\n",
    "# 10- Üretilen matrisin satır ve sütun sayıları toplamlarını hesaplayınız ?\n",
    "print(rastgeleSayı3.sum(axis=0))\n",
    "print(rastgeleSayı3.sum(axis=1))\n",
    "# 11- Üretilen matrisin en büyük, en küçük ve ortalaması nedir ?\n",
    "print(rastgeleSayı3.max())\n",
    "print(rastgeleSayı3.min())\n",
    "print(rastgeleSayı3.mean())\n",
    "# 12- Üretilen matrisin en büyük değerinin indeksi kaçtır ?\n",
    "print(rastgeleSayı3.argmax())\n",
    "# 13- (10-20) arasındaki sayıları içeren dizinin ilk 3 elemanını seçiniz.\n",
    "rastgeleSayı4=np.random.randint(10,20,size=8)\n",
    "print(rastgeleSayı4[:3])\n",
    "# 14- Üretilen dizinin elemanlarını tersten yazdırın.\n",
    "print(rastgeleSayı4[::-1])\n",
    "# 15- Üretilen matrisin ilk satırını seçiniz.\n",
    "print(rastgeleSayı3[0])\n",
    "# 16- Üretilen matrisin 2.satır 3.sütundaki elemanı hangisidir ?\n",
    "print(rastgeleSayı3[1,2])\n",
    "# 17- Üretilen matrisin tüm satırlardaki ilk elemanı seçiniz.\n",
    "print(rastgeleSayı3[:,0])\n",
    "# 18- Üretilen matrisin her bir elemanının karesini alınız.\n",
    "print(rastgeleSayı3**2)\n",
    "# 19- Üretilen matris elemanlarının hangisi pozitif çift sayıdır ? Aralığı (-50,+50) arasında yapınız.\n",
    "rastgeleSayı5 = np.random.randint(-50,50,size=(3,5))\n",
    "print((rastgeleSayı5 > 0) & (rastgeleSayı5 % 2 ==0))"
   ]
  }
 ],
 "metadata": {
  "kernelspec": {
   "display_name": "Python 3",
   "language": "python",
   "name": "python3"
  },
  "language_info": {
   "codemirror_mode": {
    "name": "ipython",
    "version": 3
   },
   "file_extension": ".py",
   "mimetype": "text/x-python",
   "name": "python",
   "nbconvert_exporter": "python",
   "pygments_lexer": "ipython3",
   "version": "3.11.1"
  },
  "orig_nbformat": 4,
  "vscode": {
   "interpreter": {
    "hash": "5026d2d6e7aaaaba093def813beadff083d8733e4a511af01735cbabd156995d"
   }
  }
 },
 "nbformat": 4,
 "nbformat_minor": 2
}
