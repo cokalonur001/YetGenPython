{
 "cells": [
  {
   "attachments": {},
   "cell_type": "markdown",
   "metadata": {},
   "source": [
    "Karşılaştırma Operatörleri\n",
    "=Atama operatörüdür. Mesela x=5 dersek x değerini 5'e atamış oluyoruz.\n",
    "==iki değerin birbirine eşit olup olmadığını kontrol eder. Eşitse True, Eşit değilse False değerini döndürülür.\n",
    "!=Eşit değil mi? Cevap eşit değil ise True, eşitse False değerini döndürür. \n",
    "> büyüktür.\n",
    "< küçüktür.\n",
    ">=büyük eşittir.\n",
    "<=küçük eşittir."
   ]
  },
  {
   "cell_type": "code",
   "execution_count": 1,
   "metadata": {},
   "outputs": [
    {
     "name": "stdout",
     "output_type": "stream",
     "text": [
      "True\n",
      "False\n"
     ]
    }
   ],
   "source": [
    "a, b, c, d = 5, 5, 10, 4\n",
    "print(a==b) #True    Eşitse True\n",
    "print(a==c) #False\n"
   ]
  },
  {
   "cell_type": "code",
   "execution_count": 3,
   "metadata": {},
   "outputs": [
    {
     "name": "stdout",
     "output_type": "stream",
     "text": [
      "False\n"
     ]
    }
   ],
   "source": [
    "username = \"admin\"\n",
    "password = \"12345\"\n",
    "print(\"berkcan\" == username) #False"
   ]
  },
  {
   "cell_type": "code",
   "execution_count": 2,
   "metadata": {},
   "outputs": [
    {
     "name": "stdout",
     "output_type": "stream",
     "text": [
      "False\n",
      "True\n"
     ]
    }
   ],
   "source": [
    "print(a != b)  #False\n",
    "print(a != c)  #True   Eşit Değilse True \n"
   ]
  },
  {
   "cell_type": "code",
   "execution_count": 5,
   "metadata": {},
   "outputs": [
    {
     "name": "stdout",
     "output_type": "stream",
     "text": [
      "False\n",
      "False\n",
      "True\n"
     ]
    }
   ],
   "source": [
    "print(a>b)\n",
    "print(a<b)\n",
    "print(a>=b)"
   ]
  },
  {
   "attachments": {},
   "cell_type": "markdown",
   "metadata": {},
   "source": [
    "Mantıksal Operatörler \n",
    "AND Operatörü\n",
    "True and True = True\n",
    "True and False = False\n",
    "False and True = False\n",
    "False and False = False\n",
    "Her iki durumda da doğru ise True olur onun dışında hepsi false olur."
   ]
  },
  {
   "cell_type": "code",
   "execution_count": 7,
   "metadata": {},
   "outputs": [
    {
     "name": "stdout",
     "output_type": "stream",
     "text": [
      "False\n"
     ]
    }
   ],
   "source": [
    "x=int(input(\"Bir sayı giriniz: \"))\n",
    "print(x>5 and x<100) #Her ikisinide uyarsa True sonuç alırız ama birini uyar diğerine uymazsa False olur.\n"
   ]
  },
  {
   "cell_type": "code",
   "execution_count": 8,
   "metadata": {},
   "outputs": [
    {
     "name": "stdout",
     "output_type": "stream",
     "text": [
      "True\n"
     ]
    }
   ],
   "source": [
    "hak = 5\n",
    "devamMi = True\n",
    "print(hak>0 and devamMi==True)"
   ]
  },
  {
   "attachments": {},
   "cell_type": "markdown",
   "metadata": {},
   "source": [
    "OR Operatörü\n",
    "True or True = True\n",
    "True or False = True\n",
    "False and True = True\n",
    "False and False = False \n",
    "Sadece iki durumda false olursa false olur onun dışında True değer verir."
   ]
  },
  {
   "cell_type": "code",
   "execution_count": 14,
   "metadata": {},
   "outputs": [
    {
     "name": "stdout",
     "output_type": "stream",
     "text": [
      "True\n"
     ]
    }
   ],
   "source": [
    "x=int(input(\"Bir sayı giriniz: \"))\n",
    "print(x>0 or x%2==0)"
   ]
  },
  {
   "cell_type": "code",
   "execution_count": 12,
   "metadata": {},
   "outputs": [
    {
     "name": "stdout",
     "output_type": "stream",
     "text": [
      "True\n"
     ]
    }
   ],
   "source": [
    "print(3>1 or 3>2)"
   ]
  },
  {
   "attachments": {},
   "cell_type": "markdown",
   "metadata": {},
   "source": [
    "NOT Operatörü\n",
    "True Değerini False\n",
    "False Değerini True döndürür"
   ]
  },
  {
   "cell_type": "code",
   "execution_count": 11,
   "metadata": {},
   "outputs": [
    {
     "name": "stdout",
     "output_type": "stream",
     "text": [
      "False\n"
     ]
    }
   ],
   "source": [
    "\n",
    "print(not(True))"
   ]
  },
  {
   "attachments": {},
   "cell_type": "markdown",
   "metadata": {},
   "source": [
    "KARAR YAPILARI\n",
    "Eğer if bloğu doğruysa diğer durumlara bakılmaz ve if bloğu altındaki kodlar çalışır.\n",
    "Else yapısının kullanılması zorunlu değildir olsa da olur olmasada olur.\n",
    "Elif yapısının kullanılması zorunlu değildir olsa da olur olmasada olur.\n",
    "Else yapısı if yapısı ve varsa elif yapısının false olduğu durumda ikinci nihai durum olarak çalışır.\n",
    "Elif yapısına birden çok farklı koşullardan doğacak durumların kontrolünü sağlamak için kullanılır. \n",
    "\n",
    "if koşul :\n",
    "    #koşul doğruysa çalışacak kodlar.\n",
    "elif koşul2:\n",
    "    #koşul 2 doğruysa çalışacak kodlar. \n",
    "else:\n",
    "    #koşul ve koşul 2 yanlışsa çalışacak kodlar.\n"
   ]
  },
  {
   "cell_type": "code",
   "execution_count": 14,
   "metadata": {},
   "outputs": [
    {
     "name": "stdout",
     "output_type": "stream",
     "text": [
      "if bloğu çalıştı\n",
      "Program sonlandı\n"
     ]
    }
   ],
   "source": [
    "if 5 > 1:\n",
    "    print(\"if bloğu çalıştı\")\n",
    "print(\"Program sonlandı\")"
   ]
  },
  {
   "cell_type": "code",
   "execution_count": 17,
   "metadata": {},
   "outputs": [
    {
     "name": "stdout",
     "output_type": "stream",
     "text": [
      "1.Sayı,2.Sayıdan Büyüktür.\n"
     ]
    }
   ],
   "source": [
    "sayi1 = int(input(\"1.Sayıyı Giriniz: \"))\n",
    "sayi2 = int(input(\"2.Sayıyı Giriniz: \"))\n",
    "if sayi1 > sayi2:\n",
    "    print(\"1.Sayı,2.Sayıdan Büyüktür.\")\n",
    "elif sayi1 == sayi2:\n",
    "    print(\"Sayılar Birbirine Eşittir.\")\n",
    "elif sayi1 < sayi2:\n",
    "    print(\"2.Sayı 1.Sayıdan Büyüktür.\") #Burada else kullansaydık koşul belirtmemize gerek kalmazdı.\n"
   ]
  },
  {
   "cell_type": "code",
   "execution_count": 22,
   "metadata": {},
   "outputs": [
    {
     "name": "stdout",
     "output_type": "stream",
     "text": [
      "Batman'i seçtiniz\n"
     ]
    }
   ],
   "source": [
    "superKahraman= input(\"Bir Süper Kahraman Giriniz: \")\n",
    "if superKahraman == \"Batman\":\n",
    "    print(\"Batman'i seçtiniz\")\n",
    "elif superKahraman == \"Superman\":\n",
    "    print(\"Superman'i seçtiniz.\")\n",
    "elif superKahraman == \"Ironman\":\n",
    "    print(\"Ironman'i seçtiniz.\")\n",
    "else:\n",
    "    print(\"Bizde böyle bir Süperkahraman bulunmamaktadır.\")\n"
   ]
  },
  {
   "cell_type": "code",
   "execution_count": 23,
   "metadata": {},
   "outputs": [
    {
     "name": "stdout",
     "output_type": "stream",
     "text": [
      "10 sayısı 20 sayısından küçüktür ve 20 sayısı 30 sayısından küçüktür.\n"
     ]
    }
   ],
   "source": [
    "a=10\n",
    "b=20\n",
    "c=30\n",
    "\n",
    "if a>b and b>c:\n",
    "    print(f\"{a} sayısı {b} sayısından büyüktür ve {b} sayısı {c} sayısından büyüktür.\")\n",
    "if a<b and b<c:\n",
    "    print(f\"{a} sayısı {b} sayısından küçüktür ve {b} sayısı {c} sayısından küçüktür.\")\n",
    "else:\n",
    "    print(\"Bu koşullar tutmadı:\")\n"
   ]
  },
  {
   "cell_type": "code",
   "execution_count": 24,
   "metadata": {},
   "outputs": [
    {
     "name": "stdout",
     "output_type": "stream",
     "text": [
      "YetGen mezunusun. #YetGenBitmez diyerek YetGen'e Dikeylerle devam ediyorsun.\n"
     ]
    }
   ],
   "source": [
    "yetgenMezunu = True\n",
    "if yetgenMezunu:\n",
    "    print(\"YetGen mezunusun. #YetGenBitmez diyerek YetGen'e Dikeylerle devam ediyorsun.\")\n",
    "else:\n",
    "    print(\"YetGen mezunu değilsin. Acilen YetGen'e katılmalısın.\")"
   ]
  },
  {
   "cell_type": "code",
   "execution_count": 2,
   "metadata": {},
   "outputs": [
    {
     "name": "stdout",
     "output_type": "stream",
     "text": [
      "3.Sayı 5'ten büyüktür\n",
      "4.Sayı 10'dan büyüktür\n"
     ]
    }
   ],
   "source": [
    "sayi3 = 10\n",
    "sayi4 = 20\n",
    "if sayi3 > 5:\n",
    "    print(\"3.Sayı 5'ten büyüktür\")\n",
    "    if sayi4 > 10:\n",
    "        print(\"4.Sayı 10'dan büyüktür\")\n",
    "    else:\n",
    "        print(\"İkinci else\")\n",
    "else:\n",
    "    print(\"Birinci else \")\n"
   ]
  },
  {
   "cell_type": "code",
   "execution_count": 3,
   "metadata": {},
   "outputs": [
    {
     "name": "stdout",
     "output_type": "stream",
     "text": [
      "Yokmuş\n"
     ]
    }
   ],
   "source": [
    "isim = \"Onur\"\n",
    "if \"Çokal\" in isim:   # in operatörü varmı anlamına gelir.\n",
    "    print(\"Varmış\")\n",
    "else:\n",
    "    print(\"Yokmuş\")\n"
   ]
  },
  {
   "cell_type": "code",
   "execution_count": 9,
   "metadata": {},
   "outputs": [
    {
     "name": "stdout",
     "output_type": "stream",
     "text": [
      "32 sayısı çifttir\n"
     ]
    }
   ],
   "source": [
    "sayi = int(input(\"Bir sayı giriniz: \"))\n",
    "if sayi % 2 == 0:   #2 ile bölümünden kalan 0, böyle yazılabilir\n",
    "    print(f\"{sayi} sayısı çifttir\")\n",
    "else:\n",
    "    print(f\"{sayi} sayısı tektir\") "
   ]
  },
  {
   "attachments": {},
   "cell_type": "markdown",
   "metadata": {},
   "source": [
    "İN Operatörü\n",
    "Belirtilen bir değerin, dizi, metin, liste veya demet gibi bir dizinin öğesi olup olmadığını kontrol eder. True ya da false değeri döndürür."
   ]
  },
  {
   "cell_type": "code",
   "execution_count": 16,
   "metadata": {},
   "outputs": [
    {
     "name": "stdout",
     "output_type": "stream",
     "text": [
      "False\n",
      "True\n"
     ]
    }
   ],
   "source": [
    "string = \"YetGen\"\n",
    "print(\"p\" in string)\n",
    "print(\"t\" in string)\n"
   ]
  },
  {
   "attachments": {},
   "cell_type": "markdown",
   "metadata": {},
   "source": [
    "DÖNGÜLER\n",
    "Döngüler, temel olarak, verilen koşullar karşılanana kadar devam eden tekrar eden bir süreçtir.\n",
    "Döngünün koşulu her zaman doğruysa döngü sonsuza kadar devam eder. Hangisine \"Sonsuz Döngü\" denir. Bu tür döngülere genellikle while döngüsünde rastlarız.\n",
    "Eğer bir döngünün koşulu baştan yanlışsa, bu nedenle döngünün çalışmasına izin vermez. Sonra buna \"sıfır açma döngüsü\" denir. "
   ]
  },
  {
   "attachments": {},
   "cell_type": "markdown",
   "metadata": {},
   "source": [
    "FOR Döngüsü\n",
    "for Döngüsü, listelerin, demetlerin, stringlerin ve hatta sözlüklerin üzerinde dolaşmamızı sağlayan bir döngü türüdür. Yapısı şu şekildedir;\n",
    "for eleman in veriYapisi\n",
    "    Yapılacak işlemler"
   ]
  },
  {
   "cell_type": "code",
   "execution_count": 14,
   "metadata": {},
   "outputs": [
    {
     "name": "stdout",
     "output_type": "stream",
     "text": [
      "1\n",
      "2\n",
      "3\n",
      "4\n",
      "5\n"
     ]
    }
   ],
   "source": [
    "liste= [1,2,3,4,5]\n",
    "for i in liste:\n",
    "    print(i)"
   ]
  },
  {
   "cell_type": "code",
   "execution_count": 15,
   "metadata": {},
   "outputs": [
    {
     "name": "stdout",
     "output_type": "stream",
     "text": [
      "1\n",
      "4\n",
      "9\n",
      "16\n",
      "25\n"
     ]
    }
   ],
   "source": [
    "for i in liste:\n",
    "    print(i**2)"
   ]
  },
  {
   "cell_type": "code",
   "execution_count": 16,
   "metadata": {},
   "outputs": [
    {
     "name": "stdout",
     "output_type": "stream",
     "text": [
      "Y\n",
      "e\n",
      "t\n",
      "G\n",
      "e\n",
      "n\n",
      " \n",
      "J\n",
      "u\n",
      "m\n",
      "p\n"
     ]
    }
   ],
   "source": [
    "string = \"YetGen Jump\"\n",
    "for string1 in string:\n",
    "    print(string1)"
   ]
  },
  {
   "cell_type": "code",
   "execution_count": 18,
   "metadata": {},
   "outputs": [
    {
     "name": "stdout",
     "output_type": "stream",
     "text": [
      "1\n",
      "4\n",
      "9\n",
      "16\n",
      "25\n"
     ]
    }
   ],
   "source": [
    "sayilar = \"12345\"\n",
    "for x in sayilar:\n",
    "    print(int(x) * int(x))"
   ]
  },
  {
   "attachments": {},
   "cell_type": "markdown",
   "metadata": {},
   "source": [
    "WHİLE Döngüsü\n",
    "While Döngüleri belli bir koşul sağlandığı sürece bloğundaki işlemleri gerçekleştirmeye devam eder. While Döngülerinin sona ermesi için koşul durumunun bir süre sonra False olması gereklidir. Yapısı şu şekildedir;\n",
    "while koşul:\n",
    "    Yapılacak işlemler"
   ]
  },
  {
   "cell_type": "code",
   "execution_count": 18,
   "metadata": {},
   "outputs": [
    {
     "name": "stdout",
     "output_type": "stream",
     "text": [
      "Toplam:  55\n"
     ]
    }
   ],
   "source": [
    "sum = 0\n",
    "i = 1\n",
    "while i < 11:\n",
    "    sum += i    #sum=sum+i\n",
    "    i += 1      #i=i+1\n",
    "print(\"Toplam: \" , sum)\n"
   ]
  },
  {
   "attachments": {},
   "cell_type": "markdown",
   "metadata": {},
   "source": [
    "RANGE() Fonksiyonu\n",
    "range(başlangıç,bitiş,artış miktarı) şeklinde kullanılır."
   ]
  },
  {
   "cell_type": "code",
   "execution_count": 1,
   "metadata": {},
   "outputs": [
    {
     "name": "stdout",
     "output_type": "stream",
     "text": [
      "range(1, 10, 2)\n"
     ]
    }
   ],
   "source": [
    "print(range(1,10,2)) #1 den 10 a kadar 2 şer 2 şer arttırarak say. 1 i alır 10 u almaz"
   ]
  },
  {
   "cell_type": "code",
   "execution_count": 4,
   "metadata": {},
   "outputs": [
    {
     "name": "stdout",
     "output_type": "stream",
     "text": [
      "1\n",
      "3\n",
      "5\n",
      "7\n",
      "9\n"
     ]
    }
   ],
   "source": [
    "for x in range(1,10,2):\n",
    "    print(x)"
   ]
  },
  {
   "cell_type": "code",
   "execution_count": 6,
   "metadata": {},
   "outputs": [
    {
     "name": "stdout",
     "output_type": "stream",
     "text": [
      "0\n",
      "1\n",
      "2\n",
      "3\n",
      "4\n"
     ]
    }
   ],
   "source": [
    "for i in range(5): #0 dan başla 5 e kadar git 1 er 1 er arttır. 0 ı alır 5 i almaz.\n",
    "    print(i)"
   ]
  },
  {
   "cell_type": "code",
   "execution_count": 7,
   "metadata": {},
   "outputs": [
    {
     "name": "stdout",
     "output_type": "stream",
     "text": [
      "0\n",
      "10\n",
      "20\n",
      "30\n",
      "40\n",
      "50\n",
      "60\n",
      "70\n",
      "80\n",
      "90\n",
      "100\n"
     ]
    }
   ],
   "source": [
    "for x in range(0,101,10):\n",
    "    print(x)"
   ]
  },
  {
   "attachments": {},
   "cell_type": "markdown",
   "metadata": {},
   "source": [
    "break \n",
    "break ifadesi döngüyü sonlandırır."
   ]
  },
  {
   "attachments": {},
   "cell_type": "markdown",
   "metadata": {},
   "source": [
    "continue\n",
    "continue ifadesi döngünün sonraki adımına geçer. "
   ]
  },
  {
   "cell_type": "code",
   "execution_count": 1,
   "metadata": {},
   "outputs": [
    {
     "name": "stdout",
     "output_type": "stream",
     "text": [
      "0\n",
      "1\n",
      "2\n",
      "3\n",
      "4\n",
      "5\n",
      "6\n"
     ]
    }
   ],
   "source": [
    "i = 0\n",
    "while i<10:\n",
    "    if(i==7):\n",
    "        break\n",
    "    else:\n",
    "        print(i)\n",
    "    i += 1"
   ]
  },
  {
   "cell_type": "code",
   "execution_count": 11,
   "metadata": {},
   "outputs": [
    {
     "name": "stdout",
     "output_type": "stream",
     "text": [
      "Uygulamadan çıkmak için q tuşuna basınız\n",
      "Yaşınız:  23\n",
      "Uygulamadan çıkmak için q tuşuna basınız\n"
     ]
    }
   ],
   "source": [
    "while True:\n",
    "    print(\"Uygulamadan çıkmak için q tuşuna basınız\")\n",
    "    yas = input(\"Yaş: \")\n",
    "    if(yas == \"q\"):\n",
    "        break\n",
    "    else:\n",
    "        print(\"Yaşınız: \", yas)"
   ]
  },
  {
   "cell_type": "code",
   "execution_count": 13,
   "metadata": {},
   "outputs": [
    {
     "name": "stdout",
     "output_type": "stream",
     "text": [
      "0\n",
      "1\n",
      "2\n",
      "3\n",
      "4\n",
      "6\n"
     ]
    }
   ],
   "source": [
    "for i in range(7):\n",
    "    if i == 5:\n",
    "        continue\n",
    "    print(i)\n"
   ]
  },
  {
   "cell_type": "code",
   "execution_count": null,
   "metadata": {},
   "outputs": [],
   "source": []
  }
 ],
 "metadata": {
  "kernelspec": {
   "display_name": "Python 3",
   "language": "python",
   "name": "python3"
  },
  "language_info": {
   "codemirror_mode": {
    "name": "ipython",
    "version": 3
   },
   "file_extension": ".py",
   "mimetype": "text/x-python",
   "name": "python",
   "nbconvert_exporter": "python",
   "pygments_lexer": "ipython3",
   "version": "3.11.1"
  },
  "orig_nbformat": 4
 },
 "nbformat": 4,
 "nbformat_minor": 2
}
