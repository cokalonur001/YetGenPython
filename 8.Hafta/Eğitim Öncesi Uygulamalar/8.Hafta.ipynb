{
 "cells": [
  {
   "attachments": {},
   "cell_type": "markdown",
   "metadata": {},
   "source": [
    "# Dosya Okuma İşlemleri\n",
    "\n",
    "- Dosya açmak ve oluşturmak için open() kullanılır.\n",
    "- open(dosyaIsmi, dosyaModu)\n",
    "- dosyaModu: Dosyayı hangi modda açacağını belirtir.\n",
    "- r: Okuma modunda açmayı sağlar. Belirtilen konumda dosya olması gerekir.\n",
    "- close(): Dosyayı kapatır."
   ]
  },
  {
   "cell_type": "code",
   "execution_count": null,
   "metadata": {},
   "outputs": [],
   "source": [
    "f = open(\"bilgiler.txt\")\n",
    "print(f)"
   ]
  }
 ],
 "metadata": {
  "kernelspec": {
   "display_name": "Python 3",
   "language": "python",
   "name": "python3"
  },
  "language_info": {
   "name": "python",
   "version": "3.11.1"
  },
  "orig_nbformat": 4
 },
 "nbformat": 4,
 "nbformat_minor": 2
}
