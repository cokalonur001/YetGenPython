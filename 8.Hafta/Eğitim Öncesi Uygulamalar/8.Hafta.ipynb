{
 "cells": [
  {
   "attachments": {},
   "cell_type": "markdown",
   "metadata": {},
   "source": [
    "# Dosya Okuma İşlemleri\n",
    "\n",
    "- Dosya açmak ve oluşturmak için open() kullanılır.\n",
    "- open(dosyaIsmi, dosyaModu)\n",
    "- dosyaModu: Dosyayı hangi modda açacağını belirtir.\n",
    "- r: Okuma modunda açmayı sağlar. Belirtilen konumda dosya olması gerekir.\n",
    "- close(): Dosyayı kapatır."
   ]
  },
  {
   "cell_type": "code",
   "execution_count": null,
   "metadata": {},
   "outputs": [],
   "source": [
    "f = open(\"bilgiler.txt\")\n",
    "print(f)"
   ]
  },
  {
   "cell_type": "code",
   "execution_count": 2,
   "metadata": {},
   "outputs": [
    {
     "name": "stdout",
     "output_type": "stream",
     "text": [
      "Ben bu dosyayı bulamadım\n"
     ]
    }
   ],
   "source": [
    "try:\n",
    "    file = open(\"bilgiler2.txt\" , \"r\" , encoding = \"utf-8\") #utf8 araştır (eğer kullanılmaz ise Türkçe karakter dışında karakterler çıkar.)\n",
    "except:\n",
    "    print(\"Ben bu dosyayı bulamadım\")"
   ]
  },
  {
   "cell_type": "code",
   "execution_count": 3,
   "metadata": {},
   "outputs": [
    {
     "name": "stdout",
     "output_type": "stream",
     "text": [
      "Yetgen\n",
      "\n",
      "Jump\n",
      "\n",
      "Python \n",
      "\n",
      "2\n",
      "\n"
     ]
    }
   ],
   "source": [
    "file = open(\"bilgiler.txt\" , \"r\" , encoding = \"utf-8\")\n",
    "\n",
    "for i in file:\n",
    "    print(i)\n",
    "file.close()"
   ]
  },
  {
   "attachments": {},
   "cell_type": "markdown",
   "metadata": {},
   "source": [
    "### read() Fonksiyonu\n",
    "read() fonksiyonu eğer içine hiçbir değer vermezsek bütün dosyamızı okuyacaktır."
   ]
  },
  {
   "cell_type": "code",
   "execution_count": 6,
   "metadata": {},
   "outputs": [
    {
     "name": "stdout",
     "output_type": "stream",
     "text": [
      "1. okuma dosya içeriği\n",
      " Yetgen\n",
      "Jump\n",
      "Python \n",
      "2\n",
      "\n",
      "2. okuma dosya içeriği\n",
      " Yetgen\n",
      "Jump\n",
      "Python \n",
      "2\n",
      "\n"
     ]
    }
   ],
   "source": [
    "file = open(\"bilgiler.txt\" , \"r\" , encoding = \"utf-8\")\n",
    "icerik = file.read()\n",
    "print(\"1. okuma dosya içeriği\\n\" , icerik, sep= \" \")\n",
    "icerik2 = file.read()\n",
    "print(\"2. okuma dosya içeriği\\n\" , icerik, sep= \" \")\n",
    "file.close()"
   ]
  },
  {
   "attachments": {},
   "cell_type": "markdown",
   "metadata": {},
   "source": [
    "read() fonksiyonuyla bir dosya okuduğumuzda dosya imlecimiz dosyanın en sonuna gider ve read() fonksiyonu 2. okuma da artık boş string döner."
   ]
  },
  {
   "cell_type": "code",
   "execution_count": null,
   "metadata": {},
   "outputs": [],
   "source": []
  },
  {
   "attachments": {},
   "cell_type": "markdown",
   "metadata": {},
   "source": [
    "readline() Fonksiyonu\n",
    "Her çalıştırıldığında bir satır okur."
   ]
  },
  {
   "cell_type": "code",
   "execution_count": 7,
   "metadata": {},
   "outputs": [
    {
     "name": "stdout",
     "output_type": "stream",
     "text": [
      "Yetgen\n",
      "\n"
     ]
    }
   ],
   "source": [
    "file = open(\"bilgiler.txt\" , \"r\" , encoding = \"utf-8\")\n",
    "print(file.readline())"
   ]
  },
  {
   "cell_type": "code",
   "execution_count": 26,
   "metadata": {},
   "outputs": [
    {
     "name": "stdout",
     "output_type": "stream",
     "text": [
      "\n"
     ]
    }
   ],
   "source": [
    "print(file.readline())"
   ]
  },
  {
   "cell_type": "code",
   "execution_count": 27,
   "metadata": {},
   "outputs": [],
   "source": [
    "file.close()"
   ]
  },
  {
   "cell_type": "code",
   "execution_count": 28,
   "metadata": {},
   "outputs": [
    {
     "ename": "ValueError",
     "evalue": "I/O operation on closed file.",
     "output_type": "error",
     "traceback": [
      "\u001b[1;31m---------------------------------------------------------------------------\u001b[0m",
      "\u001b[1;31mValueError\u001b[0m                                Traceback (most recent call last)",
      "Cell \u001b[1;32mIn[28], line 1\u001b[0m\n\u001b[1;32m----> 1\u001b[0m \u001b[39mprint\u001b[39m(file\u001b[39m.\u001b[39;49mreadline())\n",
      "\u001b[1;31mValueError\u001b[0m: I/O operation on closed file."
     ]
    }
   ],
   "source": [
    "print(file.readline()) #Dosyayı kapattığımız için hata verir."
   ]
  },
  {
   "attachments": {},
   "cell_type": "markdown",
   "metadata": {},
   "source": [
    "readlines() fonksiyonu dosyanın bütün satırları bir liste şeklinde döner."
   ]
  },
  {
   "cell_type": "code",
   "execution_count": 29,
   "metadata": {},
   "outputs": [
    {
     "name": "stdout",
     "output_type": "stream",
     "text": [
      "['Yetgen\\n', 'Jump\\n', 'Python \\n', '2\\n']\n"
     ]
    }
   ],
   "source": [
    "file = open(\"bilgiler.txt\" , \"r\" , encoding = \"utf-8\")\n",
    "print(file.readlines())"
   ]
  },
  {
   "cell_type": "code",
   "execution_count": 30,
   "metadata": {},
   "outputs": [],
   "source": [
    "file.close()"
   ]
  },
  {
   "attachments": {},
   "cell_type": "markdown",
   "metadata": {},
   "source": [
    "# Dosyaya Yazma\n",
    "w: Yazma Modu. Dosyayı konumda oluşturur. Eğer dosya mevcut ise, dosyayı siler ve yeni bir dosya oluşturur. write fonksiyonu ile dosyamıza yazıyoruz. "
   ]
  },
  {
   "cell_type": "code",
   "execution_count": 31,
   "metadata": {},
   "outputs": [],
   "source": [
    "file = open(\"bilgiler.txt\" , \"w\" , encoding=\"utf-8\")\n",
    "file.write(\"YetGen\\n\") #Dosyaya gidip baktığımızda sadece burada yazan değerin olduğunu görürüz.\n",
    "file.close()"
   ]
  },
  {
   "attachments": {},
   "cell_type": "markdown",
   "metadata": {},
   "source": [
    "a: append(ekleme) modudur. Dosya konumda varsa oluşturur, dosya konumda varsa ekleme işlemi yapar. \n",
    "r+ : Hem okuma hem yazma modudur. Dosya konumda yoksa hata verir."
   ]
  },
  {
   "cell_type": "code",
   "execution_count": 34,
   "metadata": {},
   "outputs": [],
   "source": [
    "file = open(\"bilgiler.txt\" , \"a\" , encoding=\"utf-8\")\n",
    "file.write(\"Jump\\n\") #Dosyaya gidip baktığımızda burada yazan değerin eklendiğini görürüz.\n",
    "file.close()\n",
    "#Kodu her çalıştırdığımızda bir adet ekliyor"
   ]
  },
  {
   "cell_type": "code",
   "execution_count": 35,
   "metadata": {},
   "outputs": [],
   "source": [
    "file = open(\"bilgiler.txt\" , \"r+\" , encoding=\"utf-8\")\n",
    "file.write(\"Python\\n\")\n",
    "file.read() #bu kısım gerekli\n",
    "file.close()"
   ]
  },
  {
   "attachments": {},
   "cell_type": "markdown",
   "metadata": {},
   "source": [
    "### Dosyaları Otomatik Kapatma\n",
    "with open(dosya_adı , dosya_kipi) as file:\n",
    "    Dosya işlemleri"
   ]
  },
  {
   "cell_type": "code",
   "execution_count": 36,
   "metadata": {},
   "outputs": [
    {
     "name": "stdout",
     "output_type": "stream",
     "text": [
      "Python\n",
      "\n",
      "Jump\n",
      "\n",
      "Jump\n",
      "\n",
      "Jump\n",
      "\n"
     ]
    }
   ],
   "source": [
    "with open(\"bilgiler.txt\" , \"r\" , encoding = \"utf-8\") as file:\n",
    "    for i in file:\n",
    "        print(i)"
   ]
  },
  {
   "attachments": {},
   "cell_type": "markdown",
   "metadata": {},
   "source": [
    "# Dosyayı İleri-Geri Sarmak\n",
    "- seek() metodunu kullanarak istediğiniz bayt konumuna dönebilirsiniz.\n",
    "- Dosyanın hangi bayt konumunda bulunduğunu öğrenmek isterseniz de tell() metodunu kullanabilirsiniz. "
   ]
  },
  {
   "cell_type": "code",
   "execution_count": 37,
   "metadata": {},
   "outputs": [
    {
     "name": "stdout",
     "output_type": "stream",
     "text": [
      "20\n"
     ]
    }
   ],
   "source": [
    "with open(\"bilgiler.txt\" , \"r\" , encoding = \"utf-8\") as file:\n",
    "    file.seek(20)\n",
    "    print(file.tell())"
   ]
  },
  {
   "cell_type": "code",
   "execution_count": 38,
   "metadata": {},
   "outputs": [
    {
     "name": "stdout",
     "output_type": "stream",
     "text": [
      "n\n",
      "Jump\n",
      "Jum\n",
      "Python\n"
     ]
    }
   ],
   "source": [
    "with open(\"bilgiler.txt\" , \"r\" , encoding = \"utf-8\") as file:\n",
    "    file.seek(5)\n",
    "    icerik = file.read(10)\n",
    "    print(icerik)\n",
    "    file.seek(0)\n",
    "    icerik2 = file.read(6)\n",
    "    print(icerik2)"
   ]
  }
 ],
 "metadata": {
  "kernelspec": {
   "display_name": "Python 3",
   "language": "python",
   "name": "python3"
  },
  "language_info": {
   "codemirror_mode": {
    "name": "ipython",
    "version": 3
   },
   "file_extension": ".py",
   "mimetype": "text/x-python",
   "name": "python",
   "nbconvert_exporter": "python",
   "pygments_lexer": "ipython3",
   "version": "3.11.1"
  },
  "orig_nbformat": 4
 },
 "nbformat": 4,
 "nbformat_minor": 2
}
